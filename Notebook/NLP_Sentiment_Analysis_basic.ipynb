{
  "cells": [
    {
      "cell_type": "markdown",
      "source": [
        "# Install Required Packages"
      ],
      "metadata": {
        "id": "2TuqyjisZ9Oe"
      }
    },
    {
      "cell_type": "code",
      "source": [
        "%pip install pandas\n",
        "%pip install scikit-learn\n",
        "%pip install matplotlib\n",
        "%pip install numpy\n",
        "%pip install nltk\n",
        "%pip install seaborn\n",
        "%pip install regex\n",
        "%pip install keras\n",
        "%pip install gensim\n",
        "%pip install tensorflow\n",
        "%pip install -U azureml-fsspec mltable azure-ai-ml"
      ],
      "outputs": [
        {
          "output_type": "stream",
          "name": "stdout",
          "text": "Requirement already satisfied: pandas in /anaconda/envs/azureml_py310_sdkv2/lib/python3.10/site-packages (2.0.2)\nRequirement already satisfied: python-dateutil>=2.8.2 in /anaconda/envs/azureml_py310_sdkv2/lib/python3.10/site-packages (from pandas) (2.8.2)\nRequirement already satisfied: pytz>=2020.1 in /anaconda/envs/azureml_py310_sdkv2/lib/python3.10/site-packages (from pandas) (2023.3)\nRequirement already satisfied: tzdata>=2022.1 in /anaconda/envs/azureml_py310_sdkv2/lib/python3.10/site-packages (from pandas) (2023.3)\nRequirement already satisfied: numpy>=1.21.0 in /anaconda/envs/azureml_py310_sdkv2/lib/python3.10/site-packages (from pandas) (1.25.0)\nRequirement already satisfied: six>=1.5 in /anaconda/envs/azureml_py310_sdkv2/lib/python3.10/site-packages (from python-dateutil>=2.8.2->pandas) (1.16.0)\nNote: you may need to restart the kernel to use updated packages.\nRequirement already satisfied: scikit-learn in /anaconda/envs/azureml_py310_sdkv2/lib/python3.10/site-packages (1.2.2)\nRequirement already satisfied: numpy>=1.17.3 in /anaconda/envs/azureml_py310_sdkv2/lib/python3.10/site-packages (from scikit-learn) (1.25.0)\nRequirement already satisfied: scipy>=1.3.2 in /anaconda/envs/azureml_py310_sdkv2/lib/python3.10/site-packages (from scikit-learn) (1.10.1)\nRequirement already satisfied: joblib>=1.1.1 in /anaconda/envs/azureml_py310_sdkv2/lib/python3.10/site-packages (from scikit-learn) (1.2.0)\nRequirement already satisfied: threadpoolctl>=2.0.0 in /anaconda/envs/azureml_py310_sdkv2/lib/python3.10/site-packages (from scikit-learn) (3.1.0)\nNote: you may need to restart the kernel to use updated packages.\nRequirement already satisfied: matplotlib in /anaconda/envs/azureml_py310_sdkv2/lib/python3.10/site-packages (3.7.1)\nRequirement already satisfied: contourpy>=1.0.1 in /anaconda/envs/azureml_py310_sdkv2/lib/python3.10/site-packages (from matplotlib) (1.1.0)\nRequirement already satisfied: cycler>=0.10 in /anaconda/envs/azureml_py310_sdkv2/lib/python3.10/site-packages (from matplotlib) (0.11.0)\nRequirement already satisfied: fonttools>=4.22.0 in /anaconda/envs/azureml_py310_sdkv2/lib/python3.10/site-packages (from matplotlib) (4.40.0)\nRequirement already satisfied: kiwisolver>=1.0.1 in /anaconda/envs/azureml_py310_sdkv2/lib/python3.10/site-packages (from matplotlib) (1.4.4)\nRequirement already satisfied: numpy>=1.20 in /anaconda/envs/azureml_py310_sdkv2/lib/python3.10/site-packages (from matplotlib) (1.25.0)\nRequirement already satisfied: packaging>=20.0 in /anaconda/envs/azureml_py310_sdkv2/lib/python3.10/site-packages (from matplotlib) (23.0)\nRequirement already satisfied: pillow>=6.2.0 in /anaconda/envs/azureml_py310_sdkv2/lib/python3.10/site-packages (from matplotlib) (9.5.0)\nRequirement already satisfied: pyparsing>=2.3.1 in /anaconda/envs/azureml_py310_sdkv2/lib/python3.10/site-packages (from matplotlib) (3.1.0)\nRequirement already satisfied: python-dateutil>=2.7 in /anaconda/envs/azureml_py310_sdkv2/lib/python3.10/site-packages (from matplotlib) (2.8.2)\nRequirement already satisfied: six>=1.5 in /anaconda/envs/azureml_py310_sdkv2/lib/python3.10/site-packages (from python-dateutil>=2.7->matplotlib) (1.16.0)\nNote: you may need to restart the kernel to use updated packages.\nRequirement already satisfied: numpy in /anaconda/envs/azureml_py310_sdkv2/lib/python3.10/site-packages (1.25.0)\nNote: you may need to restart the kernel to use updated packages.\nRequirement already satisfied: nltk in /anaconda/envs/azureml_py310_sdkv2/lib/python3.10/site-packages (3.8.1)\nRequirement already satisfied: click in /anaconda/envs/azureml_py310_sdkv2/lib/python3.10/site-packages (from nltk) (8.0.4)\nRequirement already satisfied: joblib in /anaconda/envs/azureml_py310_sdkv2/lib/python3.10/site-packages (from nltk) (1.2.0)\nRequirement already satisfied: regex>=2021.8.3 in /anaconda/envs/azureml_py310_sdkv2/lib/python3.10/site-packages (from nltk) (2023.12.25)\nRequirement already satisfied: tqdm in /anaconda/envs/azureml_py310_sdkv2/lib/python3.10/site-packages (from nltk) (4.65.0)\nNote: you may need to restart the kernel to use updated packages.\nRequirement already satisfied: seaborn in /anaconda/envs/azureml_py310_sdkv2/lib/python3.10/site-packages (0.13.1)\nRequirement already satisfied: numpy!=1.24.0,>=1.20 in /anaconda/envs/azureml_py310_sdkv2/lib/python3.10/site-packages (from seaborn) (1.25.0)\nRequirement already satisfied: pandas>=1.2 in /anaconda/envs/azureml_py310_sdkv2/lib/python3.10/site-packages (from seaborn) (2.0.2)\nRequirement already satisfied: matplotlib!=3.6.1,>=3.4 in /anaconda/envs/azureml_py310_sdkv2/lib/python3.10/site-packages (from seaborn) (3.7.1)\nRequirement already satisfied: contourpy>=1.0.1 in /anaconda/envs/azureml_py310_sdkv2/lib/python3.10/site-packages (from matplotlib!=3.6.1,>=3.4->seaborn) (1.1.0)\nRequirement already satisfied: cycler>=0.10 in /anaconda/envs/azureml_py310_sdkv2/lib/python3.10/site-packages (from matplotlib!=3.6.1,>=3.4->seaborn) (0.11.0)\nRequirement already satisfied: fonttools>=4.22.0 in /anaconda/envs/azureml_py310_sdkv2/lib/python3.10/site-packages (from matplotlib!=3.6.1,>=3.4->seaborn) (4.40.0)\nRequirement already satisfied: kiwisolver>=1.0.1 in /anaconda/envs/azureml_py310_sdkv2/lib/python3.10/site-packages (from matplotlib!=3.6.1,>=3.4->seaborn) (1.4.4)\nRequirement already satisfied: packaging>=20.0 in /anaconda/envs/azureml_py310_sdkv2/lib/python3.10/site-packages (from matplotlib!=3.6.1,>=3.4->seaborn) (23.0)\nRequirement already satisfied: pillow>=6.2.0 in /anaconda/envs/azureml_py310_sdkv2/lib/python3.10/site-packages (from matplotlib!=3.6.1,>=3.4->seaborn) (9.5.0)\nRequirement already satisfied: pyparsing>=2.3.1 in /anaconda/envs/azureml_py310_sdkv2/lib/python3.10/site-packages (from matplotlib!=3.6.1,>=3.4->seaborn) (3.1.0)\nRequirement already satisfied: python-dateutil>=2.7 in /anaconda/envs/azureml_py310_sdkv2/lib/python3.10/site-packages (from matplotlib!=3.6.1,>=3.4->seaborn) (2.8.2)\nRequirement already satisfied: pytz>=2020.1 in /anaconda/envs/azureml_py310_sdkv2/lib/python3.10/site-packages (from pandas>=1.2->seaborn) (2023.3)\nRequirement already satisfied: tzdata>=2022.1 in /anaconda/envs/azureml_py310_sdkv2/lib/python3.10/site-packages (from pandas>=1.2->seaborn) (2023.3)\nRequirement already satisfied: six>=1.5 in /anaconda/envs/azureml_py310_sdkv2/lib/python3.10/site-packages (from python-dateutil>=2.7->matplotlib!=3.6.1,>=3.4->seaborn) (1.16.0)\nNote: you may need to restart the kernel to use updated packages.\nRequirement already satisfied: regex in /anaconda/envs/azureml_py310_sdkv2/lib/python3.10/site-packages (2023.12.25)\nNote: you may need to restart the kernel to use updated packages.\nRequirement already satisfied: keras in /anaconda/envs/azureml_py310_sdkv2/lib/python3.10/site-packages (2.15.0)\nNote: you may need to restart the kernel to use updated packages.\nRequirement already satisfied: gensim in /anaconda/envs/azureml_py310_sdkv2/lib/python3.10/site-packages (4.3.2)\nRequirement already satisfied: numpy>=1.18.5 in /anaconda/envs/azureml_py310_sdkv2/lib/python3.10/site-packages (from gensim) (1.25.0)\nRequirement already satisfied: scipy>=1.7.0 in /anaconda/envs/azureml_py310_sdkv2/lib/python3.10/site-packages (from gensim) (1.10.1)\nRequirement already satisfied: smart-open>=1.8.1 in /anaconda/envs/azureml_py310_sdkv2/lib/python3.10/site-packages (from gensim) (6.4.0)\nNote: you may need to restart the kernel to use updated packages.\nRequirement already satisfied: tensorflow in /anaconda/envs/azureml_py310_sdkv2/lib/python3.10/site-packages (2.15.0.post1)\nRequirement already satisfied: absl-py>=1.0.0 in /anaconda/envs/azureml_py310_sdkv2/lib/python3.10/site-packages (from tensorflow) (2.1.0)\nRequirement already satisfied: astunparse>=1.6.0 in /anaconda/envs/azureml_py310_sdkv2/lib/python3.10/site-packages (from tensorflow) (1.6.3)\nRequirement already satisfied: flatbuffers>=23.5.26 in /anaconda/envs/azureml_py310_sdkv2/lib/python3.10/site-packages (from tensorflow) (23.5.26)\nRequirement already satisfied: gast!=0.5.0,!=0.5.1,!=0.5.2,>=0.2.1 in /anaconda/envs/azureml_py310_sdkv2/lib/python3.10/site-packages (from tensorflow) (0.5.4)\nRequirement already satisfied: google-pasta>=0.1.1 in /anaconda/envs/azureml_py310_sdkv2/lib/python3.10/site-packages (from tensorflow) (0.2.0)\nRequirement already satisfied: h5py>=2.9.0 in /anaconda/envs/azureml_py310_sdkv2/lib/python3.10/site-packages (from tensorflow) (3.10.0)\nRequirement already satisfied: libclang>=13.0.0 in /anaconda/envs/azureml_py310_sdkv2/lib/python3.10/site-packages (from tensorflow) (16.0.6)\nRequirement already satisfied: ml-dtypes~=0.2.0 in /anaconda/envs/azureml_py310_sdkv2/lib/python3.10/site-packages (from tensorflow) (0.2.0)\nRequirement already satisfied: numpy<2.0.0,>=1.23.5 in /anaconda/envs/azureml_py310_sdkv2/lib/python3.10/site-packages (from tensorflow) (1.25.0)\nRequirement already satisfied: opt-einsum>=2.3.2 in /anaconda/envs/azureml_py310_sdkv2/lib/python3.10/site-packages (from tensorflow) (3.3.0)\nRequirement already satisfied: packaging in /anaconda/envs/azureml_py310_sdkv2/lib/python3.10/site-packages (from tensorflow) (23.0)\nRequirement already satisfied: protobuf!=4.21.0,!=4.21.1,!=4.21.2,!=4.21.3,!=4.21.4,!=4.21.5,<5.0.0dev,>=3.20.3 in /anaconda/envs/azureml_py310_sdkv2/lib/python3.10/site-packages (from tensorflow) (3.20.3)\nRequirement already satisfied: setuptools in /anaconda/envs/azureml_py310_sdkv2/lib/python3.10/site-packages (from tensorflow) (67.8.0)\nRequirement already satisfied: six>=1.12.0 in /anaconda/envs/azureml_py310_sdkv2/lib/python3.10/site-packages (from tensorflow) (1.16.0)\nRequirement already satisfied: termcolor>=1.1.0 in /anaconda/envs/azureml_py310_sdkv2/lib/python3.10/site-packages (from tensorflow) (2.4.0)\nRequirement already satisfied: typing-extensions>=3.6.6 in /anaconda/envs/azureml_py310_sdkv2/lib/python3.10/site-packages (from tensorflow) (4.6.3)\nRequirement already satisfied: wrapt<1.15,>=1.11.0 in /anaconda/envs/azureml_py310_sdkv2/lib/python3.10/site-packages (from tensorflow) (1.14.1)\nRequirement already satisfied: tensorflow-io-gcs-filesystem>=0.23.1 in /anaconda/envs/azureml_py310_sdkv2/lib/python3.10/site-packages (from tensorflow) (0.35.0)\nRequirement already satisfied: grpcio<2.0,>=1.24.3 in /anaconda/envs/azureml_py310_sdkv2/lib/python3.10/site-packages (from tensorflow) (1.60.0)\nRequirement already satisfied: tensorboard<2.16,>=2.15 in /anaconda/envs/azureml_py310_sdkv2/lib/python3.10/site-packages (from tensorflow) (2.15.1)\nRequirement already satisfied: tensorflow-estimator<2.16,>=2.15.0 in /anaconda/envs/azureml_py310_sdkv2/lib/python3.10/site-packages (from tensorflow) (2.15.0)\nRequirement already satisfied: keras<2.16,>=2.15.0 in /anaconda/envs/azureml_py310_sdkv2/lib/python3.10/site-packages (from tensorflow) (2.15.0)\nRequirement already satisfied: wheel<1.0,>=0.23.0 in /anaconda/envs/azureml_py310_sdkv2/lib/python3.10/site-packages (from astunparse>=1.6.0->tensorflow) (0.38.4)\nRequirement already satisfied: google-auth<3,>=1.6.3 in /anaconda/envs/azureml_py310_sdkv2/lib/python3.10/site-packages (from tensorboard<2.16,>=2.15->tensorflow) (2.20.0)\nRequirement already satisfied: google-auth-oauthlib<2,>=0.5 in /anaconda/envs/azureml_py310_sdkv2/lib/python3.10/site-packages (from tensorboard<2.16,>=2.15->tensorflow) (1.2.0)\nRequirement already satisfied: markdown>=2.6.8 in /anaconda/envs/azureml_py310_sdkv2/lib/python3.10/site-packages (from tensorboard<2.16,>=2.15->tensorflow) (3.4.3)\nRequirement already satisfied: requests<3,>=2.21.0 in /anaconda/envs/azureml_py310_sdkv2/lib/python3.10/site-packages (from tensorboard<2.16,>=2.15->tensorflow) (2.31.0)\nRequirement already satisfied: tensorboard-data-server<0.8.0,>=0.7.0 in /anaconda/envs/azureml_py310_sdkv2/lib/python3.10/site-packages (from tensorboard<2.16,>=2.15->tensorflow) (0.7.2)\nRequirement already satisfied: werkzeug>=1.0.1 in /anaconda/envs/azureml_py310_sdkv2/lib/python3.10/site-packages (from tensorboard<2.16,>=2.15->tensorflow) (2.3.6)\nRequirement already satisfied: cachetools<6.0,>=2.0.0 in /anaconda/envs/azureml_py310_sdkv2/lib/python3.10/site-packages (from google-auth<3,>=1.6.3->tensorboard<2.16,>=2.15->tensorflow) (5.3.1)\nRequirement already satisfied: pyasn1-modules>=0.2.1 in /anaconda/envs/azureml_py310_sdkv2/lib/python3.10/site-packages (from google-auth<3,>=1.6.3->tensorboard<2.16,>=2.15->tensorflow) (0.3.0)\nRequirement already satisfied: rsa<5,>=3.1.4 in /anaconda/envs/azureml_py310_sdkv2/lib/python3.10/site-packages (from google-auth<3,>=1.6.3->tensorboard<2.16,>=2.15->tensorflow) (4.9)\nRequirement already satisfied: urllib3<2.0 in /anaconda/envs/azureml_py310_sdkv2/lib/python3.10/site-packages (from google-auth<3,>=1.6.3->tensorboard<2.16,>=2.15->tensorflow) (1.26.16)\nRequirement already satisfied: requests-oauthlib>=0.7.0 in /anaconda/envs/azureml_py310_sdkv2/lib/python3.10/site-packages (from google-auth-oauthlib<2,>=0.5->tensorboard<2.16,>=2.15->tensorflow) (1.3.1)\nRequirement already satisfied: charset-normalizer<4,>=2 in /anaconda/envs/azureml_py310_sdkv2/lib/python3.10/site-packages (from requests<3,>=2.21.0->tensorboard<2.16,>=2.15->tensorflow) (3.1.0)\nRequirement already satisfied: idna<4,>=2.5 in /anaconda/envs/azureml_py310_sdkv2/lib/python3.10/site-packages (from requests<3,>=2.21.0->tensorboard<2.16,>=2.15->tensorflow) (3.4)\nRequirement already satisfied: certifi>=2017.4.17 in /anaconda/envs/azureml_py310_sdkv2/lib/python3.10/site-packages (from requests<3,>=2.21.0->tensorboard<2.16,>=2.15->tensorflow) (2023.5.7)\nRequirement already satisfied: MarkupSafe>=2.1.1 in /anaconda/envs/azureml_py310_sdkv2/lib/python3.10/site-packages (from werkzeug>=1.0.1->tensorboard<2.16,>=2.15->tensorflow) (2.1.3)\nRequirement already satisfied: pyasn1<0.6.0,>=0.4.6 in /anaconda/envs/azureml_py310_sdkv2/lib/python3.10/site-packages (from pyasn1-modules>=0.2.1->google-auth<3,>=1.6.3->tensorboard<2.16,>=2.15->tensorflow) (0.5.0)\nRequirement already satisfied: oauthlib>=3.0.0 in /anaconda/envs/azureml_py310_sdkv2/lib/python3.10/site-packages (from requests-oauthlib>=0.7.0->google-auth-oauthlib<2,>=0.5->tensorboard<2.16,>=2.15->tensorflow) (3.2.2)\nNote: you may need to restart the kernel to use updated packages.\nRequirement already satisfied: azureml-fsspec in /anaconda/envs/azureml_py310_sdkv2/lib/python3.10/site-packages (1.3.0)\nRequirement already satisfied: mltable in /anaconda/envs/azureml_py310_sdkv2/lib/python3.10/site-packages (1.6.0)\nCollecting mltable\n  Downloading mltable-1.6.1-py3-none-any.whl (189 kB)\n\u001b[2K     \u001b[90m━━━━━━━━━━━━━━━━━━━━━━━━━━━━━━━━━━━━━━━\u001b[0m \u001b[32m189.4/189.4 kB\u001b[0m \u001b[31m3.8 MB/s\u001b[0m eta \u001b[36m0:00:00\u001b[0ma \u001b[36m0:00:01\u001b[0m\n\u001b[?25hRequirement already satisfied: azure-ai-ml in /anaconda/envs/azureml_py310_sdkv2/lib/python3.10/site-packages (1.12.1)\nRequirement already satisfied: azureml-dataprep<5.2.0a,>=5.1.0a in /anaconda/envs/azureml_py310_sdkv2/lib/python3.10/site-packages (from azureml-fsspec) (5.1.1)\nRequirement already satisfied: fsspec>=2021.6.1 in /anaconda/envs/azureml_py310_sdkv2/lib/python3.10/site-packages (from azureml-fsspec) (2023.6.0)\nRequirement already satisfied: pytz in /anaconda/envs/azureml_py310_sdkv2/lib/python3.10/site-packages (from azureml-fsspec) (2023.3)\nRequirement already satisfied: pyyaml<7.0.0,>=5.1.0 in /anaconda/envs/azureml_py310_sdkv2/lib/python3.10/site-packages (from mltable) (6.0)\nRequirement already satisfied: jsonschema<5.0.0,>=4.0.0 in /anaconda/envs/azureml_py310_sdkv2/lib/python3.10/site-packages (from mltable) (4.17.3)\nRequirement already satisfied: msrest>=0.6.18 in /anaconda/envs/azureml_py310_sdkv2/lib/python3.10/site-packages (from mltable) (0.7.1)\nRequirement already satisfied: azure-core!=1.22.0,<2.0.0,>=1.8.0 in /anaconda/envs/azureml_py310_sdkv2/lib/python3.10/site-packages (from mltable) (1.27.1)\nRequirement already satisfied: azure-mgmt-core<2.0.0,>=1.3.0 in /anaconda/envs/azureml_py310_sdkv2/lib/python3.10/site-packages (from mltable) (1.4.0)\nRequirement already satisfied: python-dateutil<3.0.0,>=2.7.3 in /anaconda/envs/azureml_py310_sdkv2/lib/python3.10/site-packages (from mltable) (2.8.2)\nRequirement already satisfied: cryptography!=1.9,!=2.0.*,!=2.1.*,!=2.2.* in /anaconda/envs/azureml_py310_sdkv2/lib/python3.10/site-packages (from mltable) (41.0.1)\nRequirement already satisfied: PyJWT<3.0.0 in /anaconda/envs/azureml_py310_sdkv2/lib/python3.10/site-packages (from mltable) (2.7.0)\nRequirement already satisfied: marshmallow<4.0.0,>=3.5 in /anaconda/envs/azureml_py310_sdkv2/lib/python3.10/site-packages (from azure-ai-ml) (3.19.0)\nRequirement already satisfied: tqdm<5.0.0 in /anaconda/envs/azureml_py310_sdkv2/lib/python3.10/site-packages (from azure-ai-ml) (4.65.0)\nRequirement already satisfied: strictyaml<2.0.0 in /anaconda/envs/azureml_py310_sdkv2/lib/python3.10/site-packages (from azure-ai-ml) (1.7.3)\nRequirement already satisfied: colorama<0.5.0 in /anaconda/envs/azureml_py310_sdkv2/lib/python3.10/site-packages (from azure-ai-ml) (0.4.6)\nRequirement already satisfied: azure-storage-blob<13.0.0,>=12.10.0 in /anaconda/envs/azureml_py310_sdkv2/lib/python3.10/site-packages (from azure-ai-ml) (12.16.0)\nRequirement already satisfied: azure-storage-file-share<13.0.0 in /anaconda/envs/azureml_py310_sdkv2/lib/python3.10/site-packages (from azure-ai-ml) (12.12.0)\nRequirement already satisfied: azure-storage-file-datalake<13.0.0 in /anaconda/envs/azureml_py310_sdkv2/lib/python3.10/site-packages (from azure-ai-ml) (12.11.0)\nRequirement already satisfied: pydash<7.0.6,>=6.0.0 in /anaconda/envs/azureml_py310_sdkv2/lib/python3.10/site-packages (from azure-ai-ml) (7.0.5)\nRequirement already satisfied: isodate in /anaconda/envs/azureml_py310_sdkv2/lib/python3.10/site-packages (from azure-ai-ml) (0.6.1)\nRequirement already satisfied: azure-common<2.0.0,>=1.1 in /anaconda/envs/azureml_py310_sdkv2/lib/python3.10/site-packages (from azure-ai-ml) (1.1.28)\nRequirement already satisfied: typing-extensions<5.0.0 in /anaconda/envs/azureml_py310_sdkv2/lib/python3.10/site-packages (from azure-ai-ml) (4.6.3)\nRequirement already satisfied: opencensus-ext-azure<2.0.0 in /anaconda/envs/azureml_py310_sdkv2/lib/python3.10/site-packages (from azure-ai-ml) (1.1.9)\nRequirement already satisfied: requests>=2.18.4 in /anaconda/envs/azureml_py310_sdkv2/lib/python3.10/site-packages (from azure-core!=1.22.0,<2.0.0,>=1.8.0->mltable) (2.31.0)\nRequirement already satisfied: six>=1.11.0 in /anaconda/envs/azureml_py310_sdkv2/lib/python3.10/site-packages (from azure-core!=1.22.0,<2.0.0,>=1.8.0->mltable) (1.16.0)\nRequirement already satisfied: azureml-dataprep-native<42.0.0,>=41.0.0 in /anaconda/envs/azureml_py310_sdkv2/lib/python3.10/site-packages (from azureml-dataprep<5.2.0a,>=5.1.0a->azureml-fsspec) (41.0.0)\nRequirement already satisfied: azureml-dataprep-rslex~=2.22.1dev0 in /anaconda/envs/azureml_py310_sdkv2/lib/python3.10/site-packages (from azureml-dataprep<5.2.0a,>=5.1.0a->azureml-fsspec) (2.22.1)\nRequirement already satisfied: cloudpickle<3.0.0,>=1.1.0 in /anaconda/envs/azureml_py310_sdkv2/lib/python3.10/site-packages (from azureml-dataprep<5.2.0a,>=5.1.0a->azureml-fsspec) (2.2.1)\nRequirement already satisfied: azure-identity>=1.7.0 in /anaconda/envs/azureml_py310_sdkv2/lib/python3.10/site-packages (from azureml-dataprep<5.2.0a,>=5.1.0a->azureml-fsspec) (1.13.0)\nRequirement already satisfied: pyarrow>=0.17.0 in /anaconda/envs/azureml_py310_sdkv2/lib/python3.10/site-packages (from azureml-dataprep<5.2.0a,>=5.1.0a->azureml-fsspec) (12.0.1)\nRequirement already satisfied: cffi>=1.12 in /anaconda/envs/azureml_py310_sdkv2/lib/python3.10/site-packages (from cryptography!=1.9,!=2.0.*,!=2.1.*,!=2.2.*->mltable) (1.15.1)\nRequirement already satisfied: attrs>=17.4.0 in /anaconda/envs/azureml_py310_sdkv2/lib/python3.10/site-packages (from jsonschema<5.0.0,>=4.0.0->mltable) (23.1.0)\nRequirement already satisfied: pyrsistent!=0.17.0,!=0.17.1,!=0.17.2,>=0.14.0 in /anaconda/envs/azureml_py310_sdkv2/lib/python3.10/site-packages (from jsonschema<5.0.0,>=4.0.0->mltable) (0.19.3)\nRequirement already satisfied: packaging>=17.0 in /anaconda/envs/azureml_py310_sdkv2/lib/python3.10/site-packages (from marshmallow<4.0.0,>=3.5->azure-ai-ml) (23.0)\nRequirement already satisfied: certifi>=2017.4.17 in /anaconda/envs/azureml_py310_sdkv2/lib/python3.10/site-packages (from msrest>=0.6.18->mltable) (2023.5.7)\nRequirement already satisfied: requests-oauthlib>=0.5.0 in /anaconda/envs/azureml_py310_sdkv2/lib/python3.10/site-packages (from msrest>=0.6.18->mltable) (1.3.1)\nRequirement already satisfied: opencensus<1.0.0,>=0.11.2 in /anaconda/envs/azureml_py310_sdkv2/lib/python3.10/site-packages (from opencensus-ext-azure<2.0.0->azure-ai-ml) (0.11.2)\nRequirement already satisfied: psutil>=5.6.3 in /anaconda/envs/azureml_py310_sdkv2/lib/python3.10/site-packages (from opencensus-ext-azure<2.0.0->azure-ai-ml) (5.9.0)\nRequirement already satisfied: msal<2.0.0,>=1.20.0 in /anaconda/envs/azureml_py310_sdkv2/lib/python3.10/site-packages (from azure-identity>=1.7.0->azureml-dataprep<5.2.0a,>=5.1.0a->azureml-fsspec) (1.22.0)\nRequirement already satisfied: msal-extensions<2.0.0,>=0.3.0 in /anaconda/envs/azureml_py310_sdkv2/lib/python3.10/site-packages (from azure-identity>=1.7.0->azureml-dataprep<5.2.0a,>=5.1.0a->azureml-fsspec) (1.0.0)\nRequirement already satisfied: pycparser in /anaconda/envs/azureml_py310_sdkv2/lib/python3.10/site-packages (from cffi>=1.12->cryptography!=1.9,!=2.0.*,!=2.1.*,!=2.2.*->mltable) (2.21)\nRequirement already satisfied: opencensus-context>=0.1.3 in /anaconda/envs/azureml_py310_sdkv2/lib/python3.10/site-packages (from opencensus<1.0.0,>=0.11.2->opencensus-ext-azure<2.0.0->azure-ai-ml) (0.1.3)\nRequirement already satisfied: google-api-core<3.0.0,>=1.0.0 in /anaconda/envs/azureml_py310_sdkv2/lib/python3.10/site-packages (from opencensus<1.0.0,>=0.11.2->opencensus-ext-azure<2.0.0->azure-ai-ml) (2.11.1)\nRequirement already satisfied: numpy>=1.16.6 in /anaconda/envs/azureml_py310_sdkv2/lib/python3.10/site-packages (from pyarrow>=0.17.0->azureml-dataprep<5.2.0a,>=5.1.0a->azureml-fsspec) (1.25.0)\nRequirement already satisfied: charset-normalizer<4,>=2 in /anaconda/envs/azureml_py310_sdkv2/lib/python3.10/site-packages (from requests>=2.18.4->azure-core!=1.22.0,<2.0.0,>=1.8.0->mltable) (3.1.0)\nRequirement already satisfied: idna<4,>=2.5 in /anaconda/envs/azureml_py310_sdkv2/lib/python3.10/site-packages (from requests>=2.18.4->azure-core!=1.22.0,<2.0.0,>=1.8.0->mltable) (3.4)\nRequirement already satisfied: urllib3<3,>=1.21.1 in /anaconda/envs/azureml_py310_sdkv2/lib/python3.10/site-packages (from requests>=2.18.4->azure-core!=1.22.0,<2.0.0,>=1.8.0->mltable) (1.26.16)\nRequirement already satisfied: oauthlib>=3.0.0 in /anaconda/envs/azureml_py310_sdkv2/lib/python3.10/site-packages (from requests-oauthlib>=0.5.0->msrest>=0.6.18->mltable) (3.2.2)\nRequirement already satisfied: googleapis-common-protos<2.0.dev0,>=1.56.2 in /anaconda/envs/azureml_py310_sdkv2/lib/python3.10/site-packages (from google-api-core<3.0.0,>=1.0.0->opencensus<1.0.0,>=0.11.2->opencensus-ext-azure<2.0.0->azure-ai-ml) (1.59.1)\nRequirement already satisfied: protobuf!=3.20.0,!=3.20.1,!=4.21.0,!=4.21.1,!=4.21.2,!=4.21.3,!=4.21.4,!=4.21.5,<5.0.0.dev0,>=3.19.5 in /anaconda/envs/azureml_py310_sdkv2/lib/python3.10/site-packages (from google-api-core<3.0.0,>=1.0.0->opencensus<1.0.0,>=0.11.2->opencensus-ext-azure<2.0.0->azure-ai-ml) (3.20.3)\nRequirement already satisfied: google-auth<3.0.dev0,>=2.14.1 in /anaconda/envs/azureml_py310_sdkv2/lib/python3.10/site-packages (from google-api-core<3.0.0,>=1.0.0->opencensus<1.0.0,>=0.11.2->opencensus-ext-azure<2.0.0->azure-ai-ml) (2.20.0)\nRequirement already satisfied: portalocker<3,>=1.0 in /anaconda/envs/azureml_py310_sdkv2/lib/python3.10/site-packages (from msal-extensions<2.0.0,>=0.3.0->azure-identity>=1.7.0->azureml-dataprep<5.2.0a,>=5.1.0a->azureml-fsspec) (2.7.0)\nRequirement already satisfied: cachetools<6.0,>=2.0.0 in /anaconda/envs/azureml_py310_sdkv2/lib/python3.10/site-packages (from google-auth<3.0.dev0,>=2.14.1->google-api-core<3.0.0,>=1.0.0->opencensus<1.0.0,>=0.11.2->opencensus-ext-azure<2.0.0->azure-ai-ml) (5.3.1)\nRequirement already satisfied: pyasn1-modules>=0.2.1 in /anaconda/envs/azureml_py310_sdkv2/lib/python3.10/site-packages (from google-auth<3.0.dev0,>=2.14.1->google-api-core<3.0.0,>=1.0.0->opencensus<1.0.0,>=0.11.2->opencensus-ext-azure<2.0.0->azure-ai-ml) (0.3.0)\nRequirement already satisfied: rsa<5,>=3.1.4 in /anaconda/envs/azureml_py310_sdkv2/lib/python3.10/site-packages (from google-auth<3.0.dev0,>=2.14.1->google-api-core<3.0.0,>=1.0.0->opencensus<1.0.0,>=0.11.2->opencensus-ext-azure<2.0.0->azure-ai-ml) (4.9)\nRequirement already satisfied: pyasn1<0.6.0,>=0.4.6 in /anaconda/envs/azureml_py310_sdkv2/lib/python3.10/site-packages (from pyasn1-modules>=0.2.1->google-auth<3.0.dev0,>=2.14.1->google-api-core<3.0.0,>=1.0.0->opencensus<1.0.0,>=0.11.2->opencensus-ext-azure<2.0.0->azure-ai-ml) (0.5.0)\nInstalling collected packages: mltable\n  Attempting uninstall: mltable\n    Found existing installation: mltable 1.6.0\n    Uninstalling mltable-1.6.0:\n      Successfully uninstalled mltable-1.6.0\nSuccessfully installed mltable-1.6.1\nNote: you may need to restart the kernel to use updated packages.\n"
        }
      ],
      "execution_count": 1,
      "metadata": {
        "colab": {
          "base_uri": "https://localhost:8080/"
        },
        "id": "9lEaTC-uZ_-m",
        "outputId": "cb283b7f-a0ca-44d6-e84c-09851e9d1056"
      }
    },
    {
      "cell_type": "markdown",
      "source": [
        "# Import Libraries"
      ],
      "metadata": {
        "id": "fOctbc8Q8ocd"
      }
    },
    {
      "cell_type": "code",
      "source": [
        "# Importing required libraries\n",
        "import pandas as pd\n",
        "import matplotlib.pyplot as plt\n",
        "import seaborn as sns\n",
        "import numpy as np\n",
        "import nltk\n",
        "import re\n",
        "from sklearn.model_selection import train_test_split\n",
        "from sklearn.preprocessing import StandardScaler\n",
        "from sklearn.ensemble import RandomForestClassifier\n",
        "from sklearn.metrics import accuracy_score, confusion_matrix, classification_report\n",
        "\n",
        "import gensim\n",
        "from gensim.models import Word2Vec\n",
        "\n",
        "import pickle\n",
        "\n",
        "from sklearn.model_selection import train_test_split"
      ],
      "outputs": [],
      "execution_count": 2,
      "metadata": {
        "gather": {
          "logged": 1706000740782
        },
        "id": "VdOVo0cfltvv"
      }
    },
    {
      "cell_type": "code",
      "source": [
        "#nltk.download()\n",
        "nltk.download('popular')\n",
        "nltk.download('stopwords')\n",
        "nltk.download('tagsets')"
      ],
      "outputs": [
        {
          "output_type": "stream",
          "name": "stderr",
          "text": "[nltk_data] Downloading collection 'popular'\n[nltk_data]    | \n[nltk_data]    | Downloading package cmudict to\n[nltk_data]    |     /home/azureuser/nltk_data...\n[nltk_data]    |   Package cmudict is already up-to-date!\n[nltk_data]    | Downloading package gazetteers to\n[nltk_data]    |     /home/azureuser/nltk_data...\n[nltk_data]    |   Package gazetteers is already up-to-date!\n[nltk_data]    | Downloading package genesis to\n[nltk_data]    |     /home/azureuser/nltk_data...\n[nltk_data]    |   Package genesis is already up-to-date!\n[nltk_data]    | Downloading package gutenberg to\n[nltk_data]    |     /home/azureuser/nltk_data...\n[nltk_data]    |   Package gutenberg is already up-to-date!\n[nltk_data]    | Downloading package inaugural to\n[nltk_data]    |     /home/azureuser/nltk_data...\n[nltk_data]    |   Package inaugural is already up-to-date!\n[nltk_data]    | Downloading package movie_reviews to\n[nltk_data]    |     /home/azureuser/nltk_data...\n[nltk_data]    |   Package movie_reviews is already up-to-date!\n[nltk_data]    | Downloading package names to\n[nltk_data]    |     /home/azureuser/nltk_data...\n[nltk_data]    |   Package names is already up-to-date!\n[nltk_data]    | Downloading package shakespeare to\n[nltk_data]    |     /home/azureuser/nltk_data...\n[nltk_data]    |   Package shakespeare is already up-to-date!\n[nltk_data]    | Downloading package stopwords to\n[nltk_data]    |     /home/azureuser/nltk_data...\n[nltk_data]    |   Package stopwords is already up-to-date!\n[nltk_data]    | Downloading package treebank to\n[nltk_data]    |     /home/azureuser/nltk_data...\n[nltk_data]    |   Package treebank is already up-to-date!\n[nltk_data]    | Downloading package twitter_samples to\n[nltk_data]    |     /home/azureuser/nltk_data...\n[nltk_data]    |   Package twitter_samples is already up-to-date!\n[nltk_data]    | Downloading package omw to\n[nltk_data]    |     /home/azureuser/nltk_data...\n[nltk_data]    |   Package omw is already up-to-date!\n[nltk_data]    | Downloading package omw-1.4 to\n[nltk_data]    |     /home/azureuser/nltk_data...\n[nltk_data]    |   Package omw-1.4 is already up-to-date!\n[nltk_data]    | Downloading package wordnet to\n[nltk_data]    |     /home/azureuser/nltk_data...\n[nltk_data]    |   Package wordnet is already up-to-date!\n[nltk_data]    | Downloading package wordnet2021 to\n[nltk_data]    |     /home/azureuser/nltk_data...\n[nltk_data]    |   Package wordnet2021 is already up-to-date!\n[nltk_data]    | Downloading package wordnet31 to\n[nltk_data]    |     /home/azureuser/nltk_data...\n[nltk_data]    |   Package wordnet31 is already up-to-date!\n[nltk_data]    | Downloading package wordnet_ic to\n[nltk_data]    |     /home/azureuser/nltk_data...\n[nltk_data]    |   Package wordnet_ic is already up-to-date!\n[nltk_data]    | Downloading package words to\n[nltk_data]    |     /home/azureuser/nltk_data...\n[nltk_data]    |   Package words is already up-to-date!\n[nltk_data]    | Downloading package maxent_ne_chunker to\n[nltk_data]    |     /home/azureuser/nltk_data...\n[nltk_data]    |   Package maxent_ne_chunker is already up-to-date!\n[nltk_data]    | Downloading package punkt to\n[nltk_data]    |     /home/azureuser/nltk_data...\n[nltk_data]    |   Package punkt is already up-to-date!\n[nltk_data]    | Downloading package snowball_data to\n[nltk_data]    |     /home/azureuser/nltk_data...\n[nltk_data]    |   Package snowball_data is already up-to-date!\n[nltk_data]    | Downloading package averaged_perceptron_tagger to\n[nltk_data]    |     /home/azureuser/nltk_data...\n[nltk_data]    |   Package averaged_perceptron_tagger is already up-\n[nltk_data]    |       to-date!\n[nltk_data]    | \n[nltk_data]  Done downloading collection popular\n[nltk_data] Downloading package stopwords to\n[nltk_data]     /home/azureuser/nltk_data...\n[nltk_data]   Package stopwords is already up-to-date!\n[nltk_data] Downloading package tagsets to\n[nltk_data]     /home/azureuser/nltk_data...\n[nltk_data]   Package tagsets is already up-to-date!\n"
        },
        {
          "output_type": "execute_result",
          "execution_count": 3,
          "data": {
            "text/plain": "True"
          },
          "metadata": {}
        }
      ],
      "execution_count": 3,
      "metadata": {
        "colab": {
          "base_uri": "https://localhost:8080/"
        },
        "gather": {
          "logged": 1706000749219
        },
        "id": "iiW7vmqsHWmO",
        "outputId": "3fa95975-39fc-4d81-9a17-5e2f14e3cce7"
      }
    },
    {
      "cell_type": "markdown",
      "source": [
        "# Reading Data"
      ],
      "metadata": {
        "id": "41qQ7c8SHWmP"
      }
    },
    {
      "cell_type": "code",
      "source": [
        "# Step 1: Reading Data from  Azure\n",
        "\n",
        "\n",
        "import mltable\n",
        "from azure.ai.ml import MLClient\n",
        "from azure.identity import DefaultAzureCredential\n",
        "\n",
        "ml_client = MLClient.from_config(credential=DefaultAzureCredential())\n",
        "data_asset = ml_client.data.get(\"amazon_fine_food_reviews_05\", version=\"1\")\n",
        "\n",
        "path = {\n",
        "  'folder': data_asset.path\n",
        "}\n",
        "\n",
        "tbl = mltable.from_delimited_files(paths=[path])\n",
        "data = tbl.to_pandas_dataframe()\n",
        "data"
      ],
      "outputs": [
        {
          "output_type": "stream",
          "name": "stderr",
          "text": "Found the config file in: /config.json\n"
        },
        {
          "output_type": "execute_result",
          "execution_count": 4,
          "data": {
            "text/plain": "            Id   ProductId          UserId                      ProfileName  \\\n0            1  B001E4KFG0  A3SGXH7AUHU8GW                       delmartian   \n1            2  B00813GRG4  A1D87F6ZCVE5NK                           dll pa   \n2            3  B000LQOCH0   ABXLMWJIXXAIN  Natalia Corres \"Natalia Corres\"   \n3            4  B000UA0QIQ  A395BORC6FGVXV                             Karl   \n4            5  B006K2ZZ7K  A1UQRSCLF8GW1T    Michael D. Bigham \"M. Wassir\"   \n...        ...         ...             ...                              ...   \n568449  568450  B001EO7N10  A28KG5XORO54AY                 Lettie D. Carter   \n568450  568451  B003S1WTCU  A3I8AFVPEE8KI5                        R. Sawyer   \n568451  568452  B004I613EE  A121AA1GQV751Z                    pksd \"pk_007\"   \n568452  568453  B004I613EE   A3IBEVCTXKNOH          Kathy A. Welch \"katwel\"   \n568453  568454  B001LR2CU2  A3LGQPJCZVL9UC                         srfell17   \n\n        HelpfulnessNumerator  HelpfulnessDenominator  Score        Time  \\\n0                          1                       1      5  1303862400   \n1                          0                       0      1  1346976000   \n2                          1                       1      4  1219017600   \n3                          3                       3      2  1307923200   \n4                          0                       0      5  1350777600   \n...                      ...                     ...    ...         ...   \n568449                     0                       0      5  1299628800   \n568450                     0                       0      2  1331251200   \n568451                     2                       2      5  1329782400   \n568452                     1                       1      5  1331596800   \n568453                     0                       0      5  1338422400   \n\n                                   Summary  \\\n0                    Good Quality Dog Food   \n1                        Not as Advertised   \n2                    \"Delight\" says it all   \n3                           Cough Medicine   \n4                              Great taffy   \n...                                    ...   \n568449                 Will not do without   \n568450                        disappointed   \n568451            Perfect for our maltipoo   \n568452  Favorite Training and reward treat   \n568453                         Great Honey   \n\n                                                     Text  \n0       I have bought several of the Vitality canned d...  \n1       Product arrived labeled as Jumbo Salted Peanut...  \n2       This is a confection that has been around a fe...  \n3       If you are looking for the secret ingredient i...  \n4       Great taffy at a great price.  There was a wid...  \n...                                                   ...  \n568449  Great for sesame chicken..this is a good if no...  \n568450  I'm disappointed with the flavor. The chocolat...  \n568451  These stars are small, so you can give 10-15 o...  \n568452  These are the BEST treats for training and rew...  \n568453  I am very satisfied ,product is as advertised,...  \n\n[568454 rows x 10 columns]",
            "text/html": "<div>\n<style scoped>\n    .dataframe tbody tr th:only-of-type {\n        vertical-align: middle;\n    }\n\n    .dataframe tbody tr th {\n        vertical-align: top;\n    }\n\n    .dataframe thead th {\n        text-align: right;\n    }\n</style>\n<table border=\"1\" class=\"dataframe\">\n  <thead>\n    <tr style=\"text-align: right;\">\n      <th></th>\n      <th>Id</th>\n      <th>ProductId</th>\n      <th>UserId</th>\n      <th>ProfileName</th>\n      <th>HelpfulnessNumerator</th>\n      <th>HelpfulnessDenominator</th>\n      <th>Score</th>\n      <th>Time</th>\n      <th>Summary</th>\n      <th>Text</th>\n    </tr>\n  </thead>\n  <tbody>\n    <tr>\n      <th>0</th>\n      <td>1</td>\n      <td>B001E4KFG0</td>\n      <td>A3SGXH7AUHU8GW</td>\n      <td>delmartian</td>\n      <td>1</td>\n      <td>1</td>\n      <td>5</td>\n      <td>1303862400</td>\n      <td>Good Quality Dog Food</td>\n      <td>I have bought several of the Vitality canned d...</td>\n    </tr>\n    <tr>\n      <th>1</th>\n      <td>2</td>\n      <td>B00813GRG4</td>\n      <td>A1D87F6ZCVE5NK</td>\n      <td>dll pa</td>\n      <td>0</td>\n      <td>0</td>\n      <td>1</td>\n      <td>1346976000</td>\n      <td>Not as Advertised</td>\n      <td>Product arrived labeled as Jumbo Salted Peanut...</td>\n    </tr>\n    <tr>\n      <th>2</th>\n      <td>3</td>\n      <td>B000LQOCH0</td>\n      <td>ABXLMWJIXXAIN</td>\n      <td>Natalia Corres \"Natalia Corres\"</td>\n      <td>1</td>\n      <td>1</td>\n      <td>4</td>\n      <td>1219017600</td>\n      <td>\"Delight\" says it all</td>\n      <td>This is a confection that has been around a fe...</td>\n    </tr>\n    <tr>\n      <th>3</th>\n      <td>4</td>\n      <td>B000UA0QIQ</td>\n      <td>A395BORC6FGVXV</td>\n      <td>Karl</td>\n      <td>3</td>\n      <td>3</td>\n      <td>2</td>\n      <td>1307923200</td>\n      <td>Cough Medicine</td>\n      <td>If you are looking for the secret ingredient i...</td>\n    </tr>\n    <tr>\n      <th>4</th>\n      <td>5</td>\n      <td>B006K2ZZ7K</td>\n      <td>A1UQRSCLF8GW1T</td>\n      <td>Michael D. Bigham \"M. Wassir\"</td>\n      <td>0</td>\n      <td>0</td>\n      <td>5</td>\n      <td>1350777600</td>\n      <td>Great taffy</td>\n      <td>Great taffy at a great price.  There was a wid...</td>\n    </tr>\n    <tr>\n      <th>...</th>\n      <td>...</td>\n      <td>...</td>\n      <td>...</td>\n      <td>...</td>\n      <td>...</td>\n      <td>...</td>\n      <td>...</td>\n      <td>...</td>\n      <td>...</td>\n      <td>...</td>\n    </tr>\n    <tr>\n      <th>568449</th>\n      <td>568450</td>\n      <td>B001EO7N10</td>\n      <td>A28KG5XORO54AY</td>\n      <td>Lettie D. Carter</td>\n      <td>0</td>\n      <td>0</td>\n      <td>5</td>\n      <td>1299628800</td>\n      <td>Will not do without</td>\n      <td>Great for sesame chicken..this is a good if no...</td>\n    </tr>\n    <tr>\n      <th>568450</th>\n      <td>568451</td>\n      <td>B003S1WTCU</td>\n      <td>A3I8AFVPEE8KI5</td>\n      <td>R. Sawyer</td>\n      <td>0</td>\n      <td>0</td>\n      <td>2</td>\n      <td>1331251200</td>\n      <td>disappointed</td>\n      <td>I'm disappointed with the flavor. The chocolat...</td>\n    </tr>\n    <tr>\n      <th>568451</th>\n      <td>568452</td>\n      <td>B004I613EE</td>\n      <td>A121AA1GQV751Z</td>\n      <td>pksd \"pk_007\"</td>\n      <td>2</td>\n      <td>2</td>\n      <td>5</td>\n      <td>1329782400</td>\n      <td>Perfect for our maltipoo</td>\n      <td>These stars are small, so you can give 10-15 o...</td>\n    </tr>\n    <tr>\n      <th>568452</th>\n      <td>568453</td>\n      <td>B004I613EE</td>\n      <td>A3IBEVCTXKNOH</td>\n      <td>Kathy A. Welch \"katwel\"</td>\n      <td>1</td>\n      <td>1</td>\n      <td>5</td>\n      <td>1331596800</td>\n      <td>Favorite Training and reward treat</td>\n      <td>These are the BEST treats for training and rew...</td>\n    </tr>\n    <tr>\n      <th>568453</th>\n      <td>568454</td>\n      <td>B001LR2CU2</td>\n      <td>A3LGQPJCZVL9UC</td>\n      <td>srfell17</td>\n      <td>0</td>\n      <td>0</td>\n      <td>5</td>\n      <td>1338422400</td>\n      <td>Great Honey</td>\n      <td>I am very satisfied ,product is as advertised,...</td>\n    </tr>\n  </tbody>\n</table>\n<p>568454 rows × 10 columns</p>\n</div>"
          },
          "metadata": {}
        }
      ],
      "execution_count": 4,
      "metadata": {
        "colab": {
          "base_uri": "https://localhost:8080/",
          "height": 161
        },
        "gather": {
          "logged": 1706000761770
        },
        "id": "IYSg_Mc8HWmP",
        "outputId": "61a61cd7-11ae-46a7-ffe0-6dbdf715ff5d"
      }
    },
    {
      "cell_type": "markdown",
      "source": [
        "# Feature Engineering"
      ],
      "metadata": {
        "id": "q-Y_j0I28zyz"
      }
    },
    {
      "cell_type": "markdown",
      "source": [
        "## (Remove later) Cut dataset size for faster execution"
      ],
      "metadata": {
        "nteract": {
          "transient": {
            "deleting": false
          }
        }
      }
    },
    {
      "cell_type": "code",
      "source": [
        "data = data[:50000]"
      ],
      "outputs": [],
      "execution_count": 5,
      "metadata": {
        "jupyter": {
          "source_hidden": false,
          "outputs_hidden": false
        },
        "nteract": {
          "transient": {
            "deleting": false
          }
        },
        "gather": {
          "logged": 1706000762084
        }
      }
    },
    {
      "cell_type": "markdown",
      "source": [
        "## Handle missing Values"
      ],
      "metadata": {
        "nteract": {
          "transient": {
            "deleting": false
          }
        }
      }
    },
    {
      "cell_type": "code",
      "source": [
        "# Handle missing values\n",
        "data.dropna(inplace=True)"
      ],
      "outputs": [
        {
          "output_type": "stream",
          "name": "stderr",
          "text": "/tmp/ipykernel_4700/2077371693.py:2: SettingWithCopyWarning: \nA value is trying to be set on a copy of a slice from a DataFrame\n\nSee the caveats in the documentation: https://pandas.pydata.org/pandas-docs/stable/user_guide/indexing.html#returning-a-view-versus-a-copy\n  data.dropna(inplace=True)\n"
        }
      ],
      "execution_count": 6,
      "metadata": {
        "gather": {
          "logged": 1706000762342
        },
        "id": "LRc6MltIhw_7"
      }
    },
    {
      "cell_type": "markdown",
      "source": [
        "## Feature Selection"
      ],
      "metadata": {
        "nteract": {
          "transient": {
            "deleting": false
          }
        }
      }
    },
    {
      "cell_type": "code",
      "source": [
        "# Remove unused information\n",
        "data.drop(['Id', 'ProductId', 'UserId', 'ProfileName', 'HelpfulnessNumerator', 'HelpfulnessDenominator', 'Time', 'Summary'], axis=1, inplace=True)\n",
        "data.head()"
      ],
      "outputs": [
        {
          "output_type": "stream",
          "name": "stderr",
          "text": "/tmp/ipykernel_4700/430325462.py:2: SettingWithCopyWarning: \nA value is trying to be set on a copy of a slice from a DataFrame\n\nSee the caveats in the documentation: https://pandas.pydata.org/pandas-docs/stable/user_guide/indexing.html#returning-a-view-versus-a-copy\n  data.drop(['Id', 'ProductId', 'UserId', 'ProfileName', 'HelpfulnessNumerator', 'HelpfulnessDenominator', 'Time', 'Summary'], axis=1, inplace=True)\n"
        },
        {
          "output_type": "execute_result",
          "execution_count": 7,
          "data": {
            "text/plain": "   Score                                               Text\n0      5  I have bought several of the Vitality canned d...\n1      1  Product arrived labeled as Jumbo Salted Peanut...\n2      4  This is a confection that has been around a fe...\n3      2  If you are looking for the secret ingredient i...\n4      5  Great taffy at a great price.  There was a wid...",
            "text/html": "<div>\n<style scoped>\n    .dataframe tbody tr th:only-of-type {\n        vertical-align: middle;\n    }\n\n    .dataframe tbody tr th {\n        vertical-align: top;\n    }\n\n    .dataframe thead th {\n        text-align: right;\n    }\n</style>\n<table border=\"1\" class=\"dataframe\">\n  <thead>\n    <tr style=\"text-align: right;\">\n      <th></th>\n      <th>Score</th>\n      <th>Text</th>\n    </tr>\n  </thead>\n  <tbody>\n    <tr>\n      <th>0</th>\n      <td>5</td>\n      <td>I have bought several of the Vitality canned d...</td>\n    </tr>\n    <tr>\n      <th>1</th>\n      <td>1</td>\n      <td>Product arrived labeled as Jumbo Salted Peanut...</td>\n    </tr>\n    <tr>\n      <th>2</th>\n      <td>4</td>\n      <td>This is a confection that has been around a fe...</td>\n    </tr>\n    <tr>\n      <th>3</th>\n      <td>2</td>\n      <td>If you are looking for the secret ingredient i...</td>\n    </tr>\n    <tr>\n      <th>4</th>\n      <td>5</td>\n      <td>Great taffy at a great price.  There was a wid...</td>\n    </tr>\n  </tbody>\n</table>\n</div>"
          },
          "metadata": {}
        }
      ],
      "execution_count": 7,
      "metadata": {
        "gather": {
          "logged": 1706000762643
        },
        "id": "MYJ7GO44iGeF"
      }
    },
    {
      "cell_type": "markdown",
      "source": [
        "## Explore Data Distribution"
      ],
      "metadata": {
        "id": "Uyt2-_aPfW2I"
      }
    },
    {
      "cell_type": "code",
      "source": [
        "# Original Distribution:\n",
        "plt.figure(figsize=(5,3))\n",
        "sns.countplot(x=data['Score'], data=data)\n",
        "plt.show()"
      ],
      "outputs": [
        {
          "output_type": "display_data",
          "data": {
            "text/plain": "<Figure size 500x300 with 1 Axes>",
            "image/png": "[encoded data removed]"
          },
          "metadata": {}
        }
      ],
      "execution_count": 8,
      "metadata": {
        "colab": {
          "base_uri": "https://localhost:8080/",
          "height": 311
        },
        "id": "_poUrO1Zq9eC",
        "outputId": "7a97157a-f284-448a-e7e0-b567e41622eb",
        "gather": {
          "logged": 1706000762910
        }
      }
    },
    {
      "cell_type": "markdown",
      "source": [
        "## Preprocess text"
      ],
      "metadata": {
        "id": "rOXgnQCuftZF"
      }
    },
    {
      "cell_type": "code",
      "source": [
        "from nltk.corpus import stopwords\n",
        "from nltk.stem import \tWordNetLemmatizer\n",
        "\n",
        "# Text preprocessing steps\n",
        "\n",
        "# Compile patterns for performance\n",
        "TAG_RE = re.compile(r'<[^>]+>')\n",
        "PUNCT_NUM_RE = re.compile('[^a-zA-Z]')\n",
        "SINGLE_CHAR_RE = re.compile(r\"\\s+[a-zA-Z]\\s+\")\n",
        "MULTI_SPACE_RE = re.compile(r'\\s+')\n",
        "\n",
        "# Initialize objects outside of function\n",
        "lemmatizer = WordNetLemmatizer()\n",
        "stop_words = set(stopwords.words('english'))\n",
        "important_tags = ['FW', 'JJ', 'JJR', 'JJS', 'NN', 'NNP', 'NNS', \\\n",
        "                      'RB', 'RBR', 'RBS', 'RP', 'UH',  \\\n",
        "                      'VB', 'VBD', 'VBG', 'VBN', 'VBP', 'VBZ']\n",
        "\n",
        "# Text preprocessing\n",
        "def preprocess_text(sen):\n",
        "    # Lowercasing\n",
        "    sentence = sen.lower()\n",
        "    # Remove html tags\n",
        "    sentence = TAG_RE.sub('', sentence)\n",
        "    # Remove punctuations and numbers\n",
        "    sentence = PUNCT_NUM_RE.sub(' ', sentence)\n",
        "    # Single character removal\n",
        "    sentence = SINGLE_CHAR_RE.sub(' ', sentence)\n",
        "    # Remove multiple spaces\n",
        "    sentence = MULTI_SPACE_RE.sub(' ', sentence).strip()\n",
        "\n",
        "    # Tokenize\n",
        "    tokens = nltk.word_tokenize(sentence)\n",
        "    # POS Tagging for all tokens in one go\n",
        "    tagged_tokens = nltk.pos_tag(tokens)\n",
        "\n",
        "    # Lemmatize and remove stopwords and non-important POS tags\n",
        "    filtered_tokens = [\n",
        "        lemmatizer.lemmatize(word) \n",
        "        for word, tag in tagged_tokens\n",
        "        if word not in stop_words\n",
        "        and tag in important_tags\n",
        "    ]\n",
        "\n",
        "    processed_sentence = ' '.join(filtered_tokens)\n",
        "    return processed_sentence"
      ],
      "outputs": [],
      "execution_count": 9,
      "metadata": {
        "jupyter": {
          "source_hidden": false,
          "outputs_hidden": false
        },
        "nteract": {
          "transient": {
            "deleting": false
          }
        },
        "gather": {
          "logged": 1706000763162
        }
      }
    },
    {
      "cell_type": "code",
      "source": [
        "# Now apply preprocess_text to all rows in the 'Text' column\n",
        "# and save the processed text back into the 'Text' column\n",
        "data['Text'] = data['Text'].apply(preprocess_text)"
      ],
      "outputs": [
        {
          "output_type": "stream",
          "name": "stderr",
          "text": "Request time out. Ingestion may be backed up. Retrying.\n/tmp/ipykernel_4700/4062364499.py:3: SettingWithCopyWarning: \nA value is trying to be set on a copy of a slice from a DataFrame.\nTry using .loc[row_indexer,col_indexer] = value instead\n\nSee the caveats in the documentation: https://pandas.pydata.org/pandas-docs/stable/user_guide/indexing.html#returning-a-view-versus-a-copy\n  data['Text'] = data['Text'].apply(preprocess_text)\n"
        }
      ],
      "execution_count": 10,
      "metadata": {
        "jupyter": {
          "source_hidden": false,
          "outputs_hidden": false
        },
        "nteract": {
          "transient": {
            "deleting": false
          }
        },
        "gather": {
          "logged": 1706000904860
        }
      }
    },
    {
      "cell_type": "code",
      "source": [
        "data.head()"
      ],
      "outputs": [
        {
          "output_type": "execute_result",
          "execution_count": 11,
          "data": {
            "text/plain": "   Score                                               Text\n0      5  bought several vitality canned dog food produc...\n1      1  product arrived labeled jumbo salted peanut pe...\n2      4  confection century light pillowy citrus gelati...\n3      2  looking secret ingredient robitussin believe f...\n4      5  great taffy great price wide assortment yummy ...",
            "text/html": "<div>\n<style scoped>\n    .dataframe tbody tr th:only-of-type {\n        vertical-align: middle;\n    }\n\n    .dataframe tbody tr th {\n        vertical-align: top;\n    }\n\n    .dataframe thead th {\n        text-align: right;\n    }\n</style>\n<table border=\"1\" class=\"dataframe\">\n  <thead>\n    <tr style=\"text-align: right;\">\n      <th></th>\n      <th>Score</th>\n      <th>Text</th>\n    </tr>\n  </thead>\n  <tbody>\n    <tr>\n      <th>0</th>\n      <td>5</td>\n      <td>bought several vitality canned dog food produc...</td>\n    </tr>\n    <tr>\n      <th>1</th>\n      <td>1</td>\n      <td>product arrived labeled jumbo salted peanut pe...</td>\n    </tr>\n    <tr>\n      <th>2</th>\n      <td>4</td>\n      <td>confection century light pillowy citrus gelati...</td>\n    </tr>\n    <tr>\n      <th>3</th>\n      <td>2</td>\n      <td>looking secret ingredient robitussin believe f...</td>\n    </tr>\n    <tr>\n      <th>4</th>\n      <td>5</td>\n      <td>great taffy great price wide assortment yummy ...</td>\n    </tr>\n  </tbody>\n</table>\n</div>"
          },
          "metadata": {}
        }
      ],
      "execution_count": 11,
      "metadata": {
        "jupyter": {
          "source_hidden": false,
          "outputs_hidden": false
        },
        "nteract": {
          "transient": {
            "deleting": false
          }
        },
        "gather": {
          "logged": 1706000905156
        }
      }
    },
    {
      "cell_type": "markdown",
      "source": [
        "# Test / Train Split\n",
        "\n",
        "Dividing Data into Train and Test Sets"
      ],
      "metadata": {
        "id": "EyViVh1NKAWM"
      }
    },
    {
      "cell_type": "code",
      "source": [
        "train_df, test_df = train_test_split(data, test_size=0.2, random_state=11084)\n",
        "\n",
        "print(train_df.shape)\n",
        "print(test_df.shape)\n",
        "train_df"
      ],
      "outputs": [
        {
          "output_type": "stream",
          "name": "stdout",
          "text": "(40000, 2)\n(10000, 2)\n"
        },
        {
          "output_type": "execute_result",
          "execution_count": 12,
          "data": {
            "text/plain": "       Score                                               Text\n15447      5  hard find blend various flavor store love mang...\n25637      5  pro high quality healthy product good value mo...\n5018       5  whole family like tasty sweet much healthy bar...\n45682      3  consumer gold kili regular plain asin epplwm g...\n29246      5  like popcorn try counter top popcorn machine w...\n...      ...                                                ...\n4063       4  bought blue icicle quickly record trumpet line...\n33480      4  coffee good medium tasting coffee bitterness l...\n39156      5  year old miniature schnauzer love bone really ...\n33370      3  wanted cooky really however let folk know come...\n17043      3  dissapointed cheetos fan thought treat first c...\n\n[40000 rows x 2 columns]",
            "text/html": "<div>\n<style scoped>\n    .dataframe tbody tr th:only-of-type {\n        vertical-align: middle;\n    }\n\n    .dataframe tbody tr th {\n        vertical-align: top;\n    }\n\n    .dataframe thead th {\n        text-align: right;\n    }\n</style>\n<table border=\"1\" class=\"dataframe\">\n  <thead>\n    <tr style=\"text-align: right;\">\n      <th></th>\n      <th>Score</th>\n      <th>Text</th>\n    </tr>\n  </thead>\n  <tbody>\n    <tr>\n      <th>15447</th>\n      <td>5</td>\n      <td>hard find blend various flavor store love mang...</td>\n    </tr>\n    <tr>\n      <th>25637</th>\n      <td>5</td>\n      <td>pro high quality healthy product good value mo...</td>\n    </tr>\n    <tr>\n      <th>5018</th>\n      <td>5</td>\n      <td>whole family like tasty sweet much healthy bar...</td>\n    </tr>\n    <tr>\n      <th>45682</th>\n      <td>3</td>\n      <td>consumer gold kili regular plain asin epplwm g...</td>\n    </tr>\n    <tr>\n      <th>29246</th>\n      <td>5</td>\n      <td>like popcorn try counter top popcorn machine w...</td>\n    </tr>\n    <tr>\n      <th>...</th>\n      <td>...</td>\n      <td>...</td>\n    </tr>\n    <tr>\n      <th>4063</th>\n      <td>4</td>\n      <td>bought blue icicle quickly record trumpet line...</td>\n    </tr>\n    <tr>\n      <th>33480</th>\n      <td>4</td>\n      <td>coffee good medium tasting coffee bitterness l...</td>\n    </tr>\n    <tr>\n      <th>39156</th>\n      <td>5</td>\n      <td>year old miniature schnauzer love bone really ...</td>\n    </tr>\n    <tr>\n      <th>33370</th>\n      <td>3</td>\n      <td>wanted cooky really however let folk know come...</td>\n    </tr>\n    <tr>\n      <th>17043</th>\n      <td>3</td>\n      <td>dissapointed cheetos fan thought treat first c...</td>\n    </tr>\n  </tbody>\n</table>\n<p>40000 rows × 2 columns</p>\n</div>"
          },
          "metadata": {}
        }
      ],
      "execution_count": 12,
      "metadata": {
        "colab": {
          "base_uri": "https://localhost:8080/"
        },
        "id": "EQ9Xq-BvSN7t",
        "outputId": "12235451-4fea-4f59-e440-ad3b03fff8f5",
        "gather": {
          "logged": 1706000905843
        }
      }
    },
    {
      "cell_type": "markdown",
      "source": [
        "# Feature Encoding / Word Embedding"
      ],
      "metadata": {
        "id": "qHe3JaYHJovO"
      }
    },
    {
      "cell_type": "code",
      "source": [
        "label_column='Score'\n",
        "def X_y_split(df):\n",
        "    X=df.drop(label_column, axis=1)\n",
        "    y=df[label_column]\n",
        "\n",
        "    # return split data\n",
        "    return X, y\n",
        "\n",
        "X_train, y_train = X_y_split(train_df)\n",
        "X_test, y_test = X_y_split(test_df)"
      ],
      "outputs": [],
      "execution_count": 13,
      "metadata": {
        "jupyter": {
          "source_hidden": false,
          "outputs_hidden": false
        },
        "nteract": {
          "transient": {
            "deleting": false
          }
        },
        "gather": {
          "logged": 1706000906122
        }
      }
    },
    {
      "cell_type": "markdown",
      "source": [
        "## Using TF-IDF"
      ],
      "metadata": {
        "id": "j1QVKw8KBpzJ"
      }
    },
    {
      "cell_type": "code",
      "source": [
        "# Set the parameters for TF-IDF Vectorization\n",
        "MAX_FEATURES = 1000\n",
        "MIN_DF = 0.02\n",
        "MAX_DF = 0.95\n",
        "NGRAM_RANGE = (1,3)"
      ],
      "outputs": [],
      "execution_count": 14,
      "metadata": {
        "id": "u11MJSTcdTHc",
        "gather": {
          "logged": 1706000906381
        }
      }
    },
    {
      "cell_type": "code",
      "source": [
        "from sklearn.feature_extraction.text import TfidfVectorizer\n",
        "\n",
        "# Create the TF-IDF-Vectorizer\n",
        "# Limit the features by using min and max df.\n",
        "vectorizer_tfidf = TfidfVectorizer(max_features=MAX_FEATURES, min_df=MIN_DF, max_df=MAX_DF)\n",
        "\n",
        "# Use fit_transform on the training data \n",
        "X_train_transformed = vectorizer_tfidf.fit_transform(X_train['Text'])\n",
        "# transform the test data by using the Vectorizer\n",
        "X_test_transformed = vectorizer_tfidf.transform(X_test['Text'])"
      ],
      "outputs": [],
      "execution_count": 15,
      "metadata": {
        "id": "JSnd2ngoBpht",
        "gather": {
          "logged": 1706000906688
        }
      }
    },
    {
      "cell_type": "code",
      "source": [
        "# --> Each Review is now represented as one TF-IDF Vector\n",
        "print(X_train_transformed.shape)\n",
        "df_temp = pd.DataFrame(X_train_transformed[0].T.todense(), index=vectorizer_tfidf.get_feature_names_out(), columns=[\"tfidf\"])\n",
        "df_temp.sort_values(by=[\"tfidf\"], ascending=False)"
      ],
      "outputs": [
        {
          "output_type": "stream",
          "name": "stdout",
          "text": "(40000, 293)\n"
        },
        {
          "output_type": "execute_result",
          "execution_count": 16,
          "data": {
            "text/plain": "              tfidf\nflavor     0.460373\nblend      0.417187\nhard       0.372485\nchocolate  0.345163\nstore      0.307795\n...             ...\nfree       0.000000\nfound      0.000000\nfood       0.000000\nflavored   0.000000\nyet        0.000000\n\n[293 rows x 1 columns]",
            "text/html": "<div>\n<style scoped>\n    .dataframe tbody tr th:only-of-type {\n        vertical-align: middle;\n    }\n\n    .dataframe tbody tr th {\n        vertical-align: top;\n    }\n\n    .dataframe thead th {\n        text-align: right;\n    }\n</style>\n<table border=\"1\" class=\"dataframe\">\n  <thead>\n    <tr style=\"text-align: right;\">\n      <th></th>\n      <th>tfidf</th>\n    </tr>\n  </thead>\n  <tbody>\n    <tr>\n      <th>flavor</th>\n      <td>0.460373</td>\n    </tr>\n    <tr>\n      <th>blend</th>\n      <td>0.417187</td>\n    </tr>\n    <tr>\n      <th>hard</th>\n      <td>0.372485</td>\n    </tr>\n    <tr>\n      <th>chocolate</th>\n      <td>0.345163</td>\n    </tr>\n    <tr>\n      <th>store</th>\n      <td>0.307795</td>\n    </tr>\n    <tr>\n      <th>...</th>\n      <td>...</td>\n    </tr>\n    <tr>\n      <th>free</th>\n      <td>0.000000</td>\n    </tr>\n    <tr>\n      <th>found</th>\n      <td>0.000000</td>\n    </tr>\n    <tr>\n      <th>food</th>\n      <td>0.000000</td>\n    </tr>\n    <tr>\n      <th>flavored</th>\n      <td>0.000000</td>\n    </tr>\n    <tr>\n      <th>yet</th>\n      <td>0.000000</td>\n    </tr>\n  </tbody>\n</table>\n<p>293 rows × 1 columns</p>\n</div>"
          },
          "metadata": {}
        }
      ],
      "execution_count": 16,
      "metadata": {
        "jupyter": {
          "source_hidden": false,
          "outputs_hidden": false
        },
        "nteract": {
          "transient": {
            "deleting": false
          }
        },
        "gather": {
          "logged": 1706000907104
        }
      }
    },
    {
      "cell_type": "code",
      "source": [
        "# Converting the transformed Training- and Testdata into DataFrames\n",
        "train_df_transformed = pd.DataFrame(X_train_transformed.toarray(), columns=vectorizer_tfidf.get_feature_names_out())\n",
        "test_df_transformed = pd.DataFrame(X_test_transformed.toarray(), columns=vectorizer_tfidf.get_feature_names_out())\n",
        "\n",
        "# Adding the Labels to the DataFrames\n",
        "train_df_transformed[label_column] = y_train.reset_index(drop=True)\n",
        "test_df_transformed[label_column] = y_test.reset_index(drop=True)\n",
        "\n",
        "train_df_transformed"
      ],
      "outputs": [
        {
          "output_type": "execute_result",
          "execution_count": 17,
          "data": {
            "text/plain": "       able  absolutely  actually  add  added    almost      also  \\\n0       0.0         0.0  0.000000  0.0    0.0  0.000000  0.000000   \n1       0.0         0.0  0.000000  0.0    0.0  0.000000  0.000000   \n2       0.0         0.0  0.000000  0.0    0.0  0.000000  0.000000   \n3       0.0         0.0  0.000000  0.0    0.0  0.000000  0.000000   \n4       0.0         0.0  0.000000  0.0    0.0  0.000000  0.000000   \n...     ...         ...       ...  ...    ...       ...       ...   \n39995   0.0         0.0  0.110377  0.0    0.0  0.223782  0.163633   \n39996   0.0         0.0  0.000000  0.0    0.0  0.000000  0.000000   \n39997   0.0         0.0  0.000000  0.0    0.0  0.000000  0.000000   \n39998   0.0         0.0  0.000000  0.0    0.0  0.000000  0.000000   \n39999   0.0         0.0  0.000000  0.0    0.0  0.000000  0.000000   \n\n       alternative  always  amazing  ...      well  went  white     whole  \\\n0              0.0     0.0      0.0  ...  0.000000   0.0    0.0  0.000000   \n1              0.0     0.0      0.0  ...  0.000000   0.0    0.0  0.000000   \n2              0.0     0.0      0.0  ...  0.000000   0.0    0.0  0.339731   \n3              0.0     0.0      0.0  ...  0.000000   0.0    0.0  0.000000   \n4              0.0     0.0      0.0  ...  0.000000   0.0    0.0  0.000000   \n...            ...     ...      ...  ...       ...   ...    ...       ...   \n39995          0.0     0.0      0.0  ...  0.171641   0.0    0.0  0.000000   \n39996          0.0     0.0      0.0  ...  0.000000   0.0    0.0  0.000000   \n39997          0.0     0.0      0.0  ...  0.000000   0.0    0.0  0.000000   \n39998          0.0     0.0      0.0  ...  0.000000   0.0    0.0  0.000000   \n39999          0.0     0.0      0.0  ...  0.000000   0.0    0.0  0.000000   \n\n         wish  wonderful      work      year  yet  Score  \n0      0.0000        0.0  0.000000  0.000000  0.0      5  \n1      0.0000        0.0  0.280692  0.000000  0.0      5  \n2      0.0000        0.0  0.000000  0.000000  0.0      5  \n3      0.0000        0.0  0.000000  0.000000  0.0      3  \n4      0.0000        0.0  0.375422  0.000000  0.0      5  \n...       ...        ...       ...       ...  ...    ...  \n39995  0.1251        0.0  0.100119  0.000000  0.0      4  \n39996  0.0000        0.0  0.000000  0.000000  0.0      4  \n39997  0.0000        0.0  0.000000  0.298876  0.0      5  \n39998  0.0000        0.0  0.000000  0.000000  0.0      3  \n39999  0.0000        0.0  0.000000  0.000000  0.0      3  \n\n[40000 rows x 294 columns]",
            "text/html": "<div>\n<style scoped>\n    .dataframe tbody tr th:only-of-type {\n        vertical-align: middle;\n    }\n\n    .dataframe tbody tr th {\n        vertical-align: top;\n    }\n\n    .dataframe thead th {\n        text-align: right;\n    }\n</style>\n<table border=\"1\" class=\"dataframe\">\n  <thead>\n    <tr style=\"text-align: right;\">\n      <th></th>\n      <th>able</th>\n      <th>absolutely</th>\n      <th>actually</th>\n      <th>add</th>\n      <th>added</th>\n      <th>almost</th>\n      <th>also</th>\n      <th>alternative</th>\n      <th>always</th>\n      <th>amazing</th>\n      <th>...</th>\n      <th>well</th>\n      <th>went</th>\n      <th>white</th>\n      <th>whole</th>\n      <th>wish</th>\n      <th>wonderful</th>\n      <th>work</th>\n      <th>year</th>\n      <th>yet</th>\n      <th>Score</th>\n    </tr>\n  </thead>\n  <tbody>\n    <tr>\n      <th>0</th>\n      <td>0.0</td>\n      <td>0.0</td>\n      <td>0.000000</td>\n      <td>0.0</td>\n      <td>0.0</td>\n      <td>0.000000</td>\n      <td>0.000000</td>\n      <td>0.0</td>\n      <td>0.0</td>\n      <td>0.0</td>\n      <td>...</td>\n      <td>0.000000</td>\n      <td>0.0</td>\n      <td>0.0</td>\n      <td>0.000000</td>\n      <td>0.0000</td>\n      <td>0.0</td>\n      <td>0.000000</td>\n      <td>0.000000</td>\n      <td>0.0</td>\n      <td>5</td>\n    </tr>\n    <tr>\n      <th>1</th>\n      <td>0.0</td>\n      <td>0.0</td>\n      <td>0.000000</td>\n      <td>0.0</td>\n      <td>0.0</td>\n      <td>0.000000</td>\n      <td>0.000000</td>\n      <td>0.0</td>\n      <td>0.0</td>\n      <td>0.0</td>\n      <td>...</td>\n      <td>0.000000</td>\n      <td>0.0</td>\n      <td>0.0</td>\n      <td>0.000000</td>\n      <td>0.0000</td>\n      <td>0.0</td>\n      <td>0.280692</td>\n      <td>0.000000</td>\n      <td>0.0</td>\n      <td>5</td>\n    </tr>\n    <tr>\n      <th>2</th>\n      <td>0.0</td>\n      <td>0.0</td>\n      <td>0.000000</td>\n      <td>0.0</td>\n      <td>0.0</td>\n      <td>0.000000</td>\n      <td>0.000000</td>\n      <td>0.0</td>\n      <td>0.0</td>\n      <td>0.0</td>\n      <td>...</td>\n      <td>0.000000</td>\n      <td>0.0</td>\n      <td>0.0</td>\n      <td>0.339731</td>\n      <td>0.0000</td>\n      <td>0.0</td>\n      <td>0.000000</td>\n      <td>0.000000</td>\n      <td>0.0</td>\n      <td>5</td>\n    </tr>\n    <tr>\n      <th>3</th>\n      <td>0.0</td>\n      <td>0.0</td>\n      <td>0.000000</td>\n      <td>0.0</td>\n      <td>0.0</td>\n      <td>0.000000</td>\n      <td>0.000000</td>\n      <td>0.0</td>\n      <td>0.0</td>\n      <td>0.0</td>\n      <td>...</td>\n      <td>0.000000</td>\n      <td>0.0</td>\n      <td>0.0</td>\n      <td>0.000000</td>\n      <td>0.0000</td>\n      <td>0.0</td>\n      <td>0.000000</td>\n      <td>0.000000</td>\n      <td>0.0</td>\n      <td>3</td>\n    </tr>\n    <tr>\n      <th>4</th>\n      <td>0.0</td>\n      <td>0.0</td>\n      <td>0.000000</td>\n      <td>0.0</td>\n      <td>0.0</td>\n      <td>0.000000</td>\n      <td>0.000000</td>\n      <td>0.0</td>\n      <td>0.0</td>\n      <td>0.0</td>\n      <td>...</td>\n      <td>0.000000</td>\n      <td>0.0</td>\n      <td>0.0</td>\n      <td>0.000000</td>\n      <td>0.0000</td>\n      <td>0.0</td>\n      <td>0.375422</td>\n      <td>0.000000</td>\n      <td>0.0</td>\n      <td>5</td>\n    </tr>\n    <tr>\n      <th>...</th>\n      <td>...</td>\n      <td>...</td>\n      <td>...</td>\n      <td>...</td>\n      <td>...</td>\n      <td>...</td>\n      <td>...</td>\n      <td>...</td>\n      <td>...</td>\n      <td>...</td>\n      <td>...</td>\n      <td>...</td>\n      <td>...</td>\n      <td>...</td>\n      <td>...</td>\n      <td>...</td>\n      <td>...</td>\n      <td>...</td>\n      <td>...</td>\n      <td>...</td>\n      <td>...</td>\n    </tr>\n    <tr>\n      <th>39995</th>\n      <td>0.0</td>\n      <td>0.0</td>\n      <td>0.110377</td>\n      <td>0.0</td>\n      <td>0.0</td>\n      <td>0.223782</td>\n      <td>0.163633</td>\n      <td>0.0</td>\n      <td>0.0</td>\n      <td>0.0</td>\n      <td>...</td>\n      <td>0.171641</td>\n      <td>0.0</td>\n      <td>0.0</td>\n      <td>0.000000</td>\n      <td>0.1251</td>\n      <td>0.0</td>\n      <td>0.100119</td>\n      <td>0.000000</td>\n      <td>0.0</td>\n      <td>4</td>\n    </tr>\n    <tr>\n      <th>39996</th>\n      <td>0.0</td>\n      <td>0.0</td>\n      <td>0.000000</td>\n      <td>0.0</td>\n      <td>0.0</td>\n      <td>0.000000</td>\n      <td>0.000000</td>\n      <td>0.0</td>\n      <td>0.0</td>\n      <td>0.0</td>\n      <td>...</td>\n      <td>0.000000</td>\n      <td>0.0</td>\n      <td>0.0</td>\n      <td>0.000000</td>\n      <td>0.0000</td>\n      <td>0.0</td>\n      <td>0.000000</td>\n      <td>0.000000</td>\n      <td>0.0</td>\n      <td>4</td>\n    </tr>\n    <tr>\n      <th>39997</th>\n      <td>0.0</td>\n      <td>0.0</td>\n      <td>0.000000</td>\n      <td>0.0</td>\n      <td>0.0</td>\n      <td>0.000000</td>\n      <td>0.000000</td>\n      <td>0.0</td>\n      <td>0.0</td>\n      <td>0.0</td>\n      <td>...</td>\n      <td>0.000000</td>\n      <td>0.0</td>\n      <td>0.0</td>\n      <td>0.000000</td>\n      <td>0.0000</td>\n      <td>0.0</td>\n      <td>0.000000</td>\n      <td>0.298876</td>\n      <td>0.0</td>\n      <td>5</td>\n    </tr>\n    <tr>\n      <th>39998</th>\n      <td>0.0</td>\n      <td>0.0</td>\n      <td>0.000000</td>\n      <td>0.0</td>\n      <td>0.0</td>\n      <td>0.000000</td>\n      <td>0.000000</td>\n      <td>0.0</td>\n      <td>0.0</td>\n      <td>0.0</td>\n      <td>...</td>\n      <td>0.000000</td>\n      <td>0.0</td>\n      <td>0.0</td>\n      <td>0.000000</td>\n      <td>0.0000</td>\n      <td>0.0</td>\n      <td>0.000000</td>\n      <td>0.000000</td>\n      <td>0.0</td>\n      <td>3</td>\n    </tr>\n    <tr>\n      <th>39999</th>\n      <td>0.0</td>\n      <td>0.0</td>\n      <td>0.000000</td>\n      <td>0.0</td>\n      <td>0.0</td>\n      <td>0.000000</td>\n      <td>0.000000</td>\n      <td>0.0</td>\n      <td>0.0</td>\n      <td>0.0</td>\n      <td>...</td>\n      <td>0.000000</td>\n      <td>0.0</td>\n      <td>0.0</td>\n      <td>0.000000</td>\n      <td>0.0000</td>\n      <td>0.0</td>\n      <td>0.000000</td>\n      <td>0.000000</td>\n      <td>0.0</td>\n      <td>3</td>\n    </tr>\n  </tbody>\n</table>\n<p>40000 rows × 294 columns</p>\n</div>"
          },
          "metadata": {}
        }
      ],
      "execution_count": 17,
      "metadata": {
        "jupyter": {
          "source_hidden": false,
          "outputs_hidden": false
        },
        "nteract": {
          "transient": {
            "deleting": false
          }
        },
        "gather": {
          "logged": 1706000908768
        }
      }
    },
    {
      "cell_type": "markdown",
      "source": [
        "# Model Training\n",
        "Training a Machine Learning Model for Classification\n"
      ],
      "metadata": {
        "id": "LWAvOlC7HWmW"
      }
    },
    {
      "cell_type": "code",
      "source": [
        "label_column='Score'\n",
        "\n",
        "X_train = train_df_transformed.drop(label_column, axis=1)\n",
        "y_train = train_df_transformed[label_column]\n",
        "\n",
        "X_test = test_df_transformed.drop(label_column, axis=1)\n",
        "y_test = test_df_transformed[label_column]"
      ],
      "outputs": [],
      "execution_count": 41,
      "metadata": {
        "jupyter": {
          "source_hidden": false,
          "outputs_hidden": false
        },
        "nteract": {
          "transient": {
            "deleting": false
          }
        },
        "gather": {
          "logged": 1706004691365
        }
      }
    },
    {
      "cell_type": "markdown",
      "source": [
        "## Train Models"
      ],
      "metadata": {
        "nteract": {
          "transient": {
            "deleting": false
          }
        }
      }
    },
    {
      "cell_type": "code",
      "source": [
        "# Random Forest\n",
        "model_random_forest = RandomForestClassifier(random_state=42)\n",
        "model_random_forest.fit(X_train, y_train)\n",
        "# This took about 23 seconds"
      ],
      "outputs": [
        {
          "output_type": "execute_result",
          "execution_count": 31,
          "data": {
            "text/plain": "RandomForestClassifier(random_state=42)",
            "text/html": "<style>#sk-container-id-2 {color: black;background-color: white;}#sk-container-id-2 pre{padding: 0;}#sk-container-id-2 div.sk-toggleable {background-color: white;}#sk-container-id-2 label.sk-toggleable__label {cursor: pointer;display: block;width: 100%;margin-bottom: 0;padding: 0.3em;box-sizing: border-box;text-align: center;}#sk-container-id-2 label.sk-toggleable__label-arrow:before {content: \"▸\";float: left;margin-right: 0.25em;color: #696969;}#sk-container-id-2 label.sk-toggleable__label-arrow:hover:before {color: black;}#sk-container-id-2 div.sk-estimator:hover label.sk-toggleable__label-arrow:before {color: black;}#sk-container-id-2 div.sk-toggleable__content {max-height: 0;max-width: 0;overflow: hidden;text-align: left;background-color: #f0f8ff;}#sk-container-id-2 div.sk-toggleable__content pre {margin: 0.2em;color: black;border-radius: 0.25em;background-color: #f0f8ff;}#sk-container-id-2 input.sk-toggleable__control:checked~div.sk-toggleable__content {max-height: 200px;max-width: 100%;overflow: auto;}#sk-container-id-2 input.sk-toggleable__control:checked~label.sk-toggleable__label-arrow:before {content: \"▾\";}#sk-container-id-2 div.sk-estimator input.sk-toggleable__control:checked~label.sk-toggleable__label {background-color: #d4ebff;}#sk-container-id-2 div.sk-label input.sk-toggleable__control:checked~label.sk-toggleable__label {background-color: #d4ebff;}#sk-container-id-2 input.sk-hidden--visually {border: 0;clip: rect(1px 1px 1px 1px);clip: rect(1px, 1px, 1px, 1px);height: 1px;margin: -1px;overflow: hidden;padding: 0;position: absolute;width: 1px;}#sk-container-id-2 div.sk-estimator {font-family: monospace;background-color: #f0f8ff;border: 1px dotted black;border-radius: 0.25em;box-sizing: border-box;margin-bottom: 0.5em;}#sk-container-id-2 div.sk-estimator:hover {background-color: #d4ebff;}#sk-container-id-2 div.sk-parallel-item::after {content: \"\";width: 100%;border-bottom: 1px solid gray;flex-grow: 1;}#sk-container-id-2 div.sk-label:hover label.sk-toggleable__label {background-color: #d4ebff;}#sk-container-id-2 div.sk-serial::before {content: \"\";position: absolute;border-left: 1px solid gray;box-sizing: border-box;top: 0;bottom: 0;left: 50%;z-index: 0;}#sk-container-id-2 div.sk-serial {display: flex;flex-direction: column;align-items: center;background-color: white;padding-right: 0.2em;padding-left: 0.2em;position: relative;}#sk-container-id-2 div.sk-item {position: relative;z-index: 1;}#sk-container-id-2 div.sk-parallel {display: flex;align-items: stretch;justify-content: center;background-color: white;position: relative;}#sk-container-id-2 div.sk-item::before, #sk-container-id-2 div.sk-parallel-item::before {content: \"\";position: absolute;border-left: 1px solid gray;box-sizing: border-box;top: 0;bottom: 0;left: 50%;z-index: -1;}#sk-container-id-2 div.sk-parallel-item {display: flex;flex-direction: column;z-index: 1;position: relative;background-color: white;}#sk-container-id-2 div.sk-parallel-item:first-child::after {align-self: flex-end;width: 50%;}#sk-container-id-2 div.sk-parallel-item:last-child::after {align-self: flex-start;width: 50%;}#sk-container-id-2 div.sk-parallel-item:only-child::after {width: 0;}#sk-container-id-2 div.sk-dashed-wrapped {border: 1px dashed gray;margin: 0 0.4em 0.5em 0.4em;box-sizing: border-box;padding-bottom: 0.4em;background-color: white;}#sk-container-id-2 div.sk-label label {font-family: monospace;font-weight: bold;display: inline-block;line-height: 1.2em;}#sk-container-id-2 div.sk-label-container {text-align: center;}#sk-container-id-2 div.sk-container {/* jupyter's `normalize.less` sets `[hidden] { display: none; }` but bootstrap.min.css set `[hidden] { display: none !important; }` so we also need the `!important` here to be able to override the default hidden behavior on the sphinx rendered scikit-learn.org. See: https://github.com/scikit-learn/scikit-learn/issues/21755 */display: inline-block !important;position: relative;}#sk-container-id-2 div.sk-text-repr-fallback {display: none;}</style><div id=\"sk-container-id-2\" class=\"sk-top-container\"><div class=\"sk-text-repr-fallback\"><pre>RandomForestClassifier(random_state=42)</pre><b>In a Jupyter environment, please rerun this cell to show the HTML representation or trust the notebook. <br />On GitHub, the HTML representation is unable to render, please try loading this page with nbviewer.org.</b></div><div class=\"sk-container\" hidden><div class=\"sk-item\"><div class=\"sk-estimator sk-toggleable\"><input class=\"sk-toggleable__control sk-hidden--visually\" id=\"sk-estimator-id-2\" type=\"checkbox\" checked><label for=\"sk-estimator-id-2\" class=\"sk-toggleable__label sk-toggleable__label-arrow\">RandomForestClassifier</label><div class=\"sk-toggleable__content\"><pre>RandomForestClassifier(random_state=42)</pre></div></div></div></div></div>"
          },
          "metadata": {}
        }
      ],
      "execution_count": 31,
      "metadata": {
        "colab": {
          "base_uri": "https://localhost:8080/"
        },
        "id": "BevzS1G0qXWG",
        "outputId": "6b56bd25-c8f6-4685-be59-0663634de885",
        "gather": {
          "logged": 1706002370230
        }
      }
    },
    {
      "cell_type": "code",
      "source": [
        "from sklearn.ensemble import GradientBoostingClassifier\n",
        "\n",
        "# Gradient Boosted Decision Trees\n",
        "model_gradient_boosted_decision_trees = GradientBoostingClassifier(\n",
        "    max_leaf_nodes=128,\n",
        "    min_samples_leaf=32,\n",
        "    max_depth=12,\n",
        "    learning_rate=0.1,\n",
        "    n_estimators=100,\n",
        "    validation_fraction=0.1,\n",
        "    random_state=11\n",
        ")\n",
        "\n",
        "model_gradient_boosted_decision_trees.fit(X_train, y_train)\n",
        "\n",
        "# This took about 15 minutes"
      ],
      "outputs": [
        {
          "output_type": "execute_result",
          "execution_count": 35,
          "data": {
            "text/plain": "GradientBoostingClassifier(max_depth=12, max_leaf_nodes=128,\n                           min_samples_leaf=32, random_state=11)",
            "text/html": "<style>#sk-container-id-3 {color: black;background-color: white;}#sk-container-id-3 pre{padding: 0;}#sk-container-id-3 div.sk-toggleable {background-color: white;}#sk-container-id-3 label.sk-toggleable__label {cursor: pointer;display: block;width: 100%;margin-bottom: 0;padding: 0.3em;box-sizing: border-box;text-align: center;}#sk-container-id-3 label.sk-toggleable__label-arrow:before {content: \"▸\";float: left;margin-right: 0.25em;color: #696969;}#sk-container-id-3 label.sk-toggleable__label-arrow:hover:before {color: black;}#sk-container-id-3 div.sk-estimator:hover label.sk-toggleable__label-arrow:before {color: black;}#sk-container-id-3 div.sk-toggleable__content {max-height: 0;max-width: 0;overflow: hidden;text-align: left;background-color: #f0f8ff;}#sk-container-id-3 div.sk-toggleable__content pre {margin: 0.2em;color: black;border-radius: 0.25em;background-color: #f0f8ff;}#sk-container-id-3 input.sk-toggleable__control:checked~div.sk-toggleable__content {max-height: 200px;max-width: 100%;overflow: auto;}#sk-container-id-3 input.sk-toggleable__control:checked~label.sk-toggleable__label-arrow:before {content: \"▾\";}#sk-container-id-3 div.sk-estimator input.sk-toggleable__control:checked~label.sk-toggleable__label {background-color: #d4ebff;}#sk-container-id-3 div.sk-label input.sk-toggleable__control:checked~label.sk-toggleable__label {background-color: #d4ebff;}#sk-container-id-3 input.sk-hidden--visually {border: 0;clip: rect(1px 1px 1px 1px);clip: rect(1px, 1px, 1px, 1px);height: 1px;margin: -1px;overflow: hidden;padding: 0;position: absolute;width: 1px;}#sk-container-id-3 div.sk-estimator {font-family: monospace;background-color: #f0f8ff;border: 1px dotted black;border-radius: 0.25em;box-sizing: border-box;margin-bottom: 0.5em;}#sk-container-id-3 div.sk-estimator:hover {background-color: #d4ebff;}#sk-container-id-3 div.sk-parallel-item::after {content: \"\";width: 100%;border-bottom: 1px solid gray;flex-grow: 1;}#sk-container-id-3 div.sk-label:hover label.sk-toggleable__label {background-color: #d4ebff;}#sk-container-id-3 div.sk-serial::before {content: \"\";position: absolute;border-left: 1px solid gray;box-sizing: border-box;top: 0;bottom: 0;left: 50%;z-index: 0;}#sk-container-id-3 div.sk-serial {display: flex;flex-direction: column;align-items: center;background-color: white;padding-right: 0.2em;padding-left: 0.2em;position: relative;}#sk-container-id-3 div.sk-item {position: relative;z-index: 1;}#sk-container-id-3 div.sk-parallel {display: flex;align-items: stretch;justify-content: center;background-color: white;position: relative;}#sk-container-id-3 div.sk-item::before, #sk-container-id-3 div.sk-parallel-item::before {content: \"\";position: absolute;border-left: 1px solid gray;box-sizing: border-box;top: 0;bottom: 0;left: 50%;z-index: -1;}#sk-container-id-3 div.sk-parallel-item {display: flex;flex-direction: column;z-index: 1;position: relative;background-color: white;}#sk-container-id-3 div.sk-parallel-item:first-child::after {align-self: flex-end;width: 50%;}#sk-container-id-3 div.sk-parallel-item:last-child::after {align-self: flex-start;width: 50%;}#sk-container-id-3 div.sk-parallel-item:only-child::after {width: 0;}#sk-container-id-3 div.sk-dashed-wrapped {border: 1px dashed gray;margin: 0 0.4em 0.5em 0.4em;box-sizing: border-box;padding-bottom: 0.4em;background-color: white;}#sk-container-id-3 div.sk-label label {font-family: monospace;font-weight: bold;display: inline-block;line-height: 1.2em;}#sk-container-id-3 div.sk-label-container {text-align: center;}#sk-container-id-3 div.sk-container {/* jupyter's `normalize.less` sets `[hidden] { display: none; }` but bootstrap.min.css set `[hidden] { display: none !important; }` so we also need the `!important` here to be able to override the default hidden behavior on the sphinx rendered scikit-learn.org. See: https://github.com/scikit-learn/scikit-learn/issues/21755 */display: inline-block !important;position: relative;}#sk-container-id-3 div.sk-text-repr-fallback {display: none;}</style><div id=\"sk-container-id-3\" class=\"sk-top-container\"><div class=\"sk-text-repr-fallback\"><pre>GradientBoostingClassifier(max_depth=12, max_leaf_nodes=128,\n                           min_samples_leaf=32, random_state=11)</pre><b>In a Jupyter environment, please rerun this cell to show the HTML representation or trust the notebook. <br />On GitHub, the HTML representation is unable to render, please try loading this page with nbviewer.org.</b></div><div class=\"sk-container\" hidden><div class=\"sk-item\"><div class=\"sk-estimator sk-toggleable\"><input class=\"sk-toggleable__control sk-hidden--visually\" id=\"sk-estimator-id-3\" type=\"checkbox\" checked><label for=\"sk-estimator-id-3\" class=\"sk-toggleable__label sk-toggleable__label-arrow\">GradientBoostingClassifier</label><div class=\"sk-toggleable__content\"><pre>GradientBoostingClassifier(max_depth=12, max_leaf_nodes=128,\n                           min_samples_leaf=32, random_state=11)</pre></div></div></div></div></div>"
          },
          "metadata": {}
        },
        {
          "output_type": "stream",
          "name": "stderr",
          "text": "Bad pipe message: %s [b'&\\xd0\\x0b\\x7f\\x0b\\xa1\\x03/\\xb0w\\xdc\\x86\\xb9\\x8f\\xaf\\x16>\\xd5 \\xf7\\x88\\xf8\\xd3\\x08r\\x15\\x83\\xb3K_\\xd3\\x8cf\\xc8\\xcbLCk\\t\\xef\\xfd2q\\xcc\\xd7\\xa8\\x97\\xedtM0\\x00\\x08\\x13\\x02\\x13\\x03\\x13\\x01\\x00\\xff\\x01\\x00\\x00\\x8f\\x00\\x00\\x00\\x0e\\x00\\x0c\\x00\\x00\\t127.0.0.1\\x00\\x0b\\x00\\x04\\x03\\x00\\x01\\x02\\x00\\n\\x00\\x0c\\x00\\n\\x00\\x1d\\x00\\x17\\x00\\x1e\\x00\\x19\\x00\\x18\\x00#\\x00\\x00\\x00\\x16\\x00\\x00\\x00\\x17\\x00\\x00\\x00\\r\\x00\\x1e\\x00\\x1c\\x04\\x03\\x05\\x03\\x06\\x03\\x08']\nBad pipe message: %s [b'\\x08\\x08\\t\\x08\\n\\x08']\nBad pipe message: %s [b'\\x04\\x08\\x05\\x08\\x06\\x04\\x01\\x05\\x01\\x06']\nBad pipe message: %s [b'']\nBad pipe message: %s [b'\\x03\\x02\\x03\\x04\\x00-\\x00\\x02\\x01\\x01\\x003\\x00&\\x00$\\x00\\x1d\\x00 \\xe5_\\xe3\\\\\\x86\\xb2\\xb9\\xf1O9\\xa8\\xbd\\xe5{\\x12\\xca\\x1eqO\\xfa\\xe7\\xa3']\nBad pipe message: %s [b'-\\x8c\\xdfJ\\xfb3[\\xac\\xf5t\\xdf\\x87#\\x06\\x9eS\\xa9. \\xdf\\x00\\x07\\x95A\\x90\\xacy\\xb1\\x84\\xb4K\\xb9\\xbb\\x9d5\\xe5\\x1b\\x04\\xe4D\\x0bh\\xe5\\xfd\\xa0\\xeb\\x07\\t\\xc77J\\x00\\x08\\x13\\x02\\x13\\x03\\x13\\x01\\x00\\xff\\x01\\x00\\x00\\x8f\\x00\\x00\\x00\\x0e\\x00\\x0c\\x00\\x00\\t127.0.0.1\\x00\\x0b\\x00\\x04\\x03\\x00\\x01\\x02\\x00\\n\\x00\\x0c\\x00\\n\\x00\\x1d\\x00\\x17\\x00\\x1e\\x00\\x19\\x00\\x18']\nBad pipe message: %s [b'\\x08v\\x81\\xc8x5.\\xed\\xb4S\\xf4\\xde\\xdd\\x1e\\xf8`L\\x83\\x00\\x00|\\xc0,\\xc00\\x00\\xa3\\x00\\x9f\\xcc\\xa9', b\"\\xcc\\xaa\\xc0\\xaf\\xc0\\xad\\xc0\\xa3\\xc0\\x9f\\xc0]\\xc0a\\xc0W\\xc0S\\xc0+\\xc0/\\x00\\xa2\\x00\\x9e\\xc0\\xae\\xc0\\xac\\xc0\\xa2\\xc0\\x9e\\xc0\\\\\\xc0`\\xc0V\\xc0R\\xc0$\\xc0(\\x00k\\x00j\\xc0#\\xc0'\\x00g\\x00@\\xc0\\n\\xc0\\x14\\x009\\x008\\xc0\\t\\xc0\\x13\\x003\\x002\\x00\\x9d\\xc0\\xa1\\xc0\\x9d\\xc0Q\\x00\\x9c\\xc0\\xa0\\xc0\\x9c\\xc0P\\x00=\\x00<\\x005\\x00/\\x00\\x9a\\x00\\x99\\xc0\\x07\\xc0\\x11\\x00\\x96\\x00\\x05\\x00\\xff\\x01\\x00\\x00j\\x00\\x00\\x00\\x0e\\x00\\x0c\\x00\\x00\\t127.0.0.1\\x00\\x0b\\x00\\x04\\x03\\x00\\x01\\x02\\x00\\n\\x00\\x0c\\x00\\n\\x00\\x1d\\x00\\x17\\x00\\x1e\\x00\\x19\\x00\\x18\\x00#\\x00\\x00\\x00\\x16\\x00\\x00\\x00\\x17\\x00\\x00\\x00\\r\\x000\\x00.\\x04\\x03\\x05\\x03\\x06\\x03\\x08\\x07\\x08\\x08\\x08\\t\\x08\\n\\x08\\x0b\\x08\\x04\\x08\\x05\\x08\\x06\\x04\\x01\\x05\\x01\\x06\"]\nBad pipe message: %s [b'', b'\\x03\\x03']\nBad pipe message: %s [b'']\nBad pipe message: %s [b'', b'\\x02']\nBad pipe message: %s [b'\\x05\\x02\\x06']\nBad pipe message: %s [b':\\xd1\\xb2\\x19\\xbdx\\xc8\\x03\\xa1\\x16:`\\xd8\\x12\\x11\\x89oO\\x00\\x00\\xa6\\xc0,\\xc00\\x00\\xa3\\x00\\x9f\\xcc\\xa9\\xcc\\xa8\\xcc\\xaa\\xc0\\xaf\\xc0\\xad\\xc0\\xa3\\xc0\\x9f\\xc0]\\xc0a\\xc0W\\xc0S\\xc0+\\xc0/']\nBad pipe message: %s [b'm\\xa7\\xfd\\x1e\\xdb@C\\xb7\\xc3\\xc7Kd\\xaa\\x1d\\n\\x05\\xf1\\x1e\\x00\\x00\\xa2\\xc0\\x14\\xc0\\n\\x009\\x008\\x007\\x006\\x00\\x88\\x00\\x87\\x00\\x86\\x00\\x85\\xc0\\x19\\x00:\\x00\\x89\\xc0\\x0f\\xc0\\x05\\x005\\x00\\x84\\xc0\\x13\\xc0\\t\\x003\\x002\\x001\\x000\\x00\\x9a\\x00\\x99\\x00\\x98\\x00\\x97\\x00E\\x00D\\x00C\\x00B\\xc0\\x18\\x004\\x00\\x9b\\x00F\\xc0\\x0e\\xc0\\x04\\x00/\\x00\\x96\\x00A\\x00\\x07\\xc0\\x11\\xc0\\x07\\xc0\\x16\\x00\\x18\\xc0\\x0c\\xc0\\x02\\x00\\x05']\nBad pipe message: %s [b'f\\x1b\\xdb2\\xaf9\\xce\\xf8\\x13\\x13\\x80\\x8e\\xcf\\x10\\xd8\\xd5\\x1e+\\x00\\x00\\xa2\\xc0\\x14\\xc0\\n\\x009\\x008\\x007\\x006\\x00\\x88\\x00\\x87\\x00\\x86\\x00\\x85\\xc0\\x19\\x00:\\x00\\x89\\xc0\\x0f\\xc0\\x05\\x005\\x00\\x84\\xc0\\x13\\xc0\\t\\x003\\x002\\x001\\x000\\x00\\x9a\\x00\\x99\\x00\\x98\\x00\\x97\\x00E\\x00D\\x00C\\x00B\\xc0\\x18\\x004\\x00\\x9b\\x00F\\xc0\\x0e\\xc0\\x04\\x00/\\x00\\x96\\x00A\\x00\\x07\\xc0\\x11\\xc0\\x07\\xc0\\x16\\x00\\x18\\xc0\\x0c\\xc0\\x02\\x00\\x05\\x00\\x04\\xc0\\x12\\xc0\\x08\\x00\\x16\\x00\\x13\\x00\\x10\\x00\\r\\xc0\\x17\\x00\\x1b\\xc0\\r\\xc0\\x03\\x00\\n\\x00\\x15\\x00\\x12\\x00\\x0f\\x00\\x0c\\x00\\x1a\\x00\\t\\x00\\x14\\x00\\x11\\x00\\x19\\x00', b'\\x06\\x00\\x17\\x00\\x03\\xc0\\x10']\nBad pipe message: %s [b'\\x91)\\x1d\\xa6\\xe9\\xd3~\\xa1;91\\x1f\\xd6N]\\t\\xb7\\x8a\\x00\\x00>\\xc0\\x14\\xc0\\n\\x009\\x008\\x007\\x006\\xc0\\x0f\\xc0\\x05\\x005\\xc0\\x13\\xc0\\t\\x003\\x002\\x001\\x000\\xc0\\x0e\\xc0\\x04\\x00']\nBad pipe message: %s [b\"\\xc6\\xc0\\xc8U\\xa2\\xf2\\xcdy\\xe9\\xfe\\x85\\x8dj\\xd8\\xfb\\xdd R\\x00\\x00\\x86\\xc00\\xc0,\\xc0(\\xc0$\\xc0\\x14\\xc0\\n\\x00\\xa5\\x00\\xa3\\x00\\xa1\\x00\\x9f\\x00k\\x00j\\x00i\\x00h\\x009\\x008\\x007\\x006\\xc02\\xc0.\\xc0*\\xc0&\\xc0\\x0f\\xc0\\x05\\x00\\x9d\\x00=\\x005\\xc0/\\xc0+\\xc0'\\xc0#\\xc0\\x13\\xc0\\t\\x00\\xa4\\x00\\xa2\\x00\\xa0\\x00\\x9e\\x00g\\x00@\\x00?\\x00>\\x003\\x002\\x001\\x000\\xc01\\xc0-\\xc0)\\xc0%\\xc0\\x0e\\xc0\\x04\\x00\\x9c\\x00<\\x00/\\x00\\x9a\\x00\\x99\\x00\\x98\\x00\\x97\\x00\\x96\\x00\\x07\\xc0\\x11\\xc0\\x07\\xc0\\x0c\\xc0\\x02\\x00\"]\nBad pipe message: %s [b'\\x04\\x00\\xff\\x02']\nBad pipe message: %s [b'']\n"
        }
      ],
      "execution_count": 35,
      "metadata": {
        "jupyter": {
          "source_hidden": false,
          "outputs_hidden": false
        },
        "nteract": {
          "transient": {
            "deleting": false
          }
        },
        "gather": {
          "logged": 1706003669229
        }
      }
    },
    {
      "cell_type": "markdown",
      "source": [
        "## Save the trained models"
      ],
      "metadata": {
        "nteract": {
          "transient": {
            "deleting": false
          }
        }
      }
    },
    {
      "cell_type": "code",
      "source": [
        "import mlflow\n",
        "import mlflow.sklearn\n",
        "\n",
        "print('Saving models...')\n",
        "mlflow.sklearn.save_model(model_random_forest, './models/model_random_forest_basic', classification_report(y_test, prediction, output_dict=True))\n",
        "mlflow.sklearn.save_model(model_gradient_boosted_decision_trees, './models/model_gradient_boosted_decision_trees')\n",
        "print('Done!')"
      ],
      "outputs": [
        {
          "output_type": "stream",
          "name": "stdout",
          "text": "Saving models...\n"
        },
        {
          "output_type": "error",
          "ename": "MlflowException",
          "evalue": "Path './models/model_random_forest_basic' already exists and is not empty",
          "traceback": [
            "\u001b[0;31m---------------------------------------------------------------------------\u001b[0m",
            "\u001b[0;31mMlflowException\u001b[0m                           Traceback (most recent call last)",
            "Cell \u001b[0;32mIn[46], line 5\u001b[0m\n\u001b[1;32m      2\u001b[0m \u001b[38;5;28;01mimport\u001b[39;00m \u001b[38;5;21;01mmlflow\u001b[39;00m\u001b[38;5;21;01m.\u001b[39;00m\u001b[38;5;21;01msklearn\u001b[39;00m\n\u001b[1;32m      4\u001b[0m \u001b[38;5;28mprint\u001b[39m(\u001b[38;5;124m'\u001b[39m\u001b[38;5;124mSaving models...\u001b[39m\u001b[38;5;124m'\u001b[39m)\n\u001b[0;32m----> 5\u001b[0m \u001b[43mmlflow\u001b[49m\u001b[38;5;241;43m.\u001b[39;49m\u001b[43msklearn\u001b[49m\u001b[38;5;241;43m.\u001b[39;49m\u001b[43msave_model\u001b[49m\u001b[43m(\u001b[49m\u001b[43mmodel_random_forest\u001b[49m\u001b[43m,\u001b[49m\u001b[43m \u001b[49m\u001b[38;5;124;43m'\u001b[39;49m\u001b[38;5;124;43m./models/model_random_forest_basic\u001b[39;49m\u001b[38;5;124;43m'\u001b[39;49m\u001b[43m,\u001b[49m\u001b[43m \u001b[49m\u001b[43mclassification_report\u001b[49m\u001b[43m(\u001b[49m\u001b[43my_test\u001b[49m\u001b[43m,\u001b[49m\u001b[43m \u001b[49m\u001b[43mprediction\u001b[49m\u001b[43m,\u001b[49m\u001b[43m \u001b[49m\u001b[43moutput_dict\u001b[49m\u001b[38;5;241;43m=\u001b[39;49m\u001b[38;5;28;43;01mTrue\u001b[39;49;00m\u001b[43m)\u001b[49m\u001b[43m)\u001b[49m\n\u001b[1;32m      6\u001b[0m mlflow\u001b[38;5;241m.\u001b[39msklearn\u001b[38;5;241m.\u001b[39msave_model(model_gradient_boosted_decision_trees, \u001b[38;5;124m'\u001b[39m\u001b[38;5;124m./models/model_gradient_boosted_decision_trees\u001b[39m\u001b[38;5;124m'\u001b[39m)\n\u001b[1;32m      7\u001b[0m \u001b[38;5;28mprint\u001b[39m(\u001b[38;5;124m'\u001b[39m\u001b[38;5;124mDone!\u001b[39m\u001b[38;5;124m'\u001b[39m)\n",
            "File \u001b[0;32m/anaconda/envs/azureml_py310_sdkv2/lib/python3.10/site-packages/mlflow/sklearn/__init__.py:258\u001b[0m, in \u001b[0;36msave_model\u001b[0;34m(sk_model, path, conda_env, code_paths, mlflow_model, serialization_format, signature, input_example, pip_requirements, extra_pip_requirements, pyfunc_predict_fn, metadata)\u001b[0m\n\u001b[1;32m    249\u001b[0m \u001b[38;5;28;01mif\u001b[39;00m serialization_format \u001b[38;5;129;01mnot\u001b[39;00m \u001b[38;5;129;01min\u001b[39;00m SUPPORTED_SERIALIZATION_FORMATS:\n\u001b[1;32m    250\u001b[0m     \u001b[38;5;28;01mraise\u001b[39;00m MlflowException(\n\u001b[1;32m    251\u001b[0m         message\u001b[38;5;241m=\u001b[39m(\n\u001b[1;32m    252\u001b[0m             \u001b[38;5;124mf\u001b[39m\u001b[38;5;124m\"\u001b[39m\u001b[38;5;124mUnrecognized serialization format: \u001b[39m\u001b[38;5;132;01m{\u001b[39;00mserialization_format\u001b[38;5;132;01m}\u001b[39;00m\u001b[38;5;124m. Please specify one\u001b[39m\u001b[38;5;124m\"\u001b[39m\n\u001b[0;32m   (...)\u001b[0m\n\u001b[1;32m    255\u001b[0m         error_code\u001b[38;5;241m=\u001b[39mINVALID_PARAMETER_VALUE,\n\u001b[1;32m    256\u001b[0m     )\n\u001b[0;32m--> 258\u001b[0m \u001b[43m_validate_and_prepare_target_save_path\u001b[49m\u001b[43m(\u001b[49m\u001b[43mpath\u001b[49m\u001b[43m)\u001b[49m\n\u001b[1;32m    259\u001b[0m code_path_subdir \u001b[38;5;241m=\u001b[39m _validate_and_copy_code_paths(code_paths, path)\n\u001b[1;32m    261\u001b[0m \u001b[38;5;28;01mif\u001b[39;00m mlflow_model \u001b[38;5;129;01mis\u001b[39;00m \u001b[38;5;28;01mNone\u001b[39;00m:\n",
            "File \u001b[0;32m/anaconda/envs/azureml_py310_sdkv2/lib/python3.10/site-packages/mlflow/utils/model_utils.py:129\u001b[0m, in \u001b[0;36m_validate_and_prepare_target_save_path\u001b[0;34m(path)\u001b[0m\n\u001b[1;32m    127\u001b[0m \u001b[38;5;28;01mdef\u001b[39;00m \u001b[38;5;21m_validate_and_prepare_target_save_path\u001b[39m(path):\n\u001b[1;32m    128\u001b[0m     \u001b[38;5;28;01mif\u001b[39;00m os\u001b[38;5;241m.\u001b[39mpath\u001b[38;5;241m.\u001b[39mexists(path) \u001b[38;5;129;01mand\u001b[39;00m \u001b[38;5;28many\u001b[39m(os\u001b[38;5;241m.\u001b[39mscandir(path)):\n\u001b[0;32m--> 129\u001b[0m         \u001b[38;5;28;01mraise\u001b[39;00m MlflowException(\n\u001b[1;32m    130\u001b[0m             message\u001b[38;5;241m=\u001b[39m\u001b[38;5;124mf\u001b[39m\u001b[38;5;124m\"\u001b[39m\u001b[38;5;124mPath \u001b[39m\u001b[38;5;124m'\u001b[39m\u001b[38;5;132;01m{\u001b[39;00mpath\u001b[38;5;132;01m}\u001b[39;00m\u001b[38;5;124m'\u001b[39m\u001b[38;5;124m already exists and is not empty\u001b[39m\u001b[38;5;124m\"\u001b[39m,\n\u001b[1;32m    131\u001b[0m             error_code\u001b[38;5;241m=\u001b[39mRESOURCE_ALREADY_EXISTS,\n\u001b[1;32m    132\u001b[0m         )\n\u001b[1;32m    134\u001b[0m     os\u001b[38;5;241m.\u001b[39mmakedirs(path, exist_ok\u001b[38;5;241m=\u001b[39m\u001b[38;5;28;01mTrue\u001b[39;00m)\n",
            "\u001b[0;31mMlflowException\u001b[0m: Path './models/model_random_forest_basic' already exists and is not empty"
          ]
        }
      ],
      "execution_count": 46,
      "metadata": {
        "jupyter": {
          "source_hidden": false,
          "outputs_hidden": false
        },
        "nteract": {
          "transient": {
            "deleting": false
          }
        },
        "gather": {
          "logged": 1706005349360
        }
      }
    },
    {
      "cell_type": "markdown",
      "source": [
        "# Evaluation"
      ],
      "metadata": {
        "id": "VohiLhJB9UFL"
      }
    },
    {
      "cell_type": "markdown",
      "source": [
        "*   **Accuracy:** the percentage of texts that were predicted with the correct topic\n",
        "*   **Precision:** the percentage of texts the model got right out of the total number of texts that it predicted for a given topic\n",
        "*   **Recall:** the percentage of texts the model predicted for a given topic out of the total number of texts it should have predicted for that topic\n",
        "*   **F1 Score:** the harmonic mean of precision and recall\n",
        "\n"
      ],
      "metadata": {
        "id": "H4r5ShGeWYm1"
      }
    },
    {
      "cell_type": "code",
      "source": [
        "def evaluate_model_with_prediction(model, name, prediction, y_test):\n",
        "  accuracy = accuracy_score(y_test, prediction)\n",
        "  print(f\"{name} Accuracy: {accuracy}\")\n",
        "\n",
        "  # Confusion Matrix\n",
        "  print(f\"{name} Confusion Matrix:\")\n",
        "  plt.figure(figsize=(5,3))\n",
        "  sns.heatmap(confusion_matrix(y_test, prediction), annot=True, fmt='d', cmap='Blues', \n",
        "              xticklabels=[1,2,3,4,5], yticklabels=[1,2,3,4,5])\n",
        "  plt.title(f'{name} Confusion Matrix')\n",
        "  plt.xlabel('Predicted Label')\n",
        "  plt.ylabel('True Label')\n",
        "  plt.show()\n",
        "\n",
        "  # Detailed Classification Report (includes Precision, Recall, F1-Score)\n",
        "  print(f\"{name} Classification Report:\")\n",
        "  print(classification_report(y_test, prediction))\n",
        "  return accuracy\n"
      ],
      "outputs": [],
      "execution_count": 28,
      "metadata": {
        "id": "dpekeM07OM80",
        "gather": {
          "logged": 1706002114924
        }
      }
    },
    {
      "cell_type": "code",
      "source": [
        "label_column='Score'\n",
        "\n",
        "X_test = test_df_transformed.drop(label_column, axis=1)\n",
        "y_test = test_df_transformed[label_column]\n",
        "\n",
        "prediction = model_random_forest.predict(X_test)\n",
        "evaluate_model_with_prediction(model_random_forest, 'Random Forest Basic', prediction, y_test)"
      ],
      "outputs": [
        {
          "output_type": "stream",
          "name": "stdout",
          "text": "Random Forest Basic Accuracy: 0.6864\nRandom Forest Basic Confusion Matrix:\n"
        },
        {
          "output_type": "display_data",
          "data": {
            "text/plain": "<Figure size 500x300 with 2 Axes>",
            "image/png": "[encoded data removed]"
          },
          "metadata": {}
        },
        {
          "output_type": "stream",
          "name": "stdout",
          "text": "Random Forest Basic Classification Report:\n              precision    recall  f1-score   support\n\n           1       0.60      0.33      0.42       940\n           2       0.77      0.10      0.18       574\n           3       0.76      0.13      0.22       793\n           4       0.62      0.21      0.31      1463\n           5       0.69      0.98      0.81      6230\n\n    accuracy                           0.69     10000\n   macro avg       0.69      0.35      0.39     10000\nweighted avg       0.68      0.69      0.62     10000\n\n"
        },
        {
          "output_type": "execute_result",
          "execution_count": 29,
          "data": {
            "text/plain": "0.6864"
          },
          "metadata": {}
        }
      ],
      "execution_count": 29,
      "metadata": {
        "jupyter": {
          "source_hidden": false,
          "outputs_hidden": false
        },
        "nteract": {
          "transient": {
            "deleting": false
          }
        },
        "gather": {
          "logged": 1706002117948
        }
      }
    },
    {
      "cell_type": "code",
      "source": [
        "classification_report(y_test, prediction, output_dict=True)"
      ],
      "outputs": [
        {
          "output_type": "execute_result",
          "execution_count": 40,
          "data": {
            "text/plain": "{'1': {'precision': 0.5652892561983471,\n  'recall': 0.3638297872340426,\n  'f1-score': 0.44271844660194176,\n  'support': 940},\n '2': {'precision': 0.375,\n  'recall': 0.08362369337979095,\n  'f1-score': 0.1367521367521368,\n  'support': 574},\n '3': {'precision': 0.3769230769230769,\n  'recall': 0.1235813366960908,\n  'f1-score': 0.18613485280151945,\n  'support': 793},\n '4': {'precision': 0.440809968847352,\n  'recall': 0.19343814080656185,\n  'f1-score': 0.26888361045130643,\n  'support': 1463},\n '5': {'precision': 0.71249252839211,\n  'recall': 0.956661316211878,\n  'f1-score': 0.816718054128126,\n  'support': 6230},\n 'accuracy': 0.6731,\n 'macro avg': {'precision': 0.4941029660721773,\n  'recall': 0.34422685486567284,\n  'f1-score': 0.37024142014700606,\n  'support': 10000},\n 'weighted avg': {'precision': 0.6129255337132967,\n  'recall': 0.6731,\n  'f1-score': 0.6123786203881643,\n  'support': 10000}}"
          },
          "metadata": {}
        }
      ],
      "execution_count": 40,
      "metadata": {
        "jupyter": {
          "source_hidden": false,
          "outputs_hidden": false
        },
        "nteract": {
          "transient": {
            "deleting": false
          }
        },
        "gather": {
          "logged": 1706004625435
        }
      }
    },
    {
      "cell_type": "code",
      "source": [
        "\n",
        "\n",
        "prediction = model_gradient_boosted_decision_trees.predict(X_test)\n",
        "evaluate_model_with_prediction(model_gradient_boosted_decision_trees, 'Gradient Boosting', prediction, y_test)"
      ],
      "outputs": [
        {
          "output_type": "stream",
          "name": "stdout",
          "text": "Gradient Boosting Accuracy: 0.6731\nGradient Boosting Confusion Matrix:\n"
        },
        {
          "output_type": "display_data",
          "data": {
            "text/plain": "<Figure size 500x300 with 2 Axes>",
            "image/png": "[encoded data removed]"
          },
          "metadata": {}
        },
        {
          "output_type": "stream",
          "name": "stdout",
          "text": "Gradient Boosting Classification Report:\n              precision    recall  f1-score   support\n\n           1       0.57      0.36      0.44       940\n           2       0.38      0.08      0.14       574\n           3       0.38      0.12      0.19       793\n           4       0.44      0.19      0.27      1463\n           5       0.71      0.96      0.82      6230\n\n    accuracy                           0.67     10000\n   macro avg       0.49      0.34      0.37     10000\nweighted avg       0.61      0.67      0.61     10000\n\n"
        },
        {
          "output_type": "execute_result",
          "execution_count": 36,
          "data": {
            "text/plain": "0.6731"
          },
          "metadata": {}
        }
      ],
      "execution_count": 36,
      "metadata": {
        "jupyter": {
          "source_hidden": false,
          "outputs_hidden": false
        },
        "nteract": {
          "transient": {
            "deleting": false
          }
        },
        "gather": {
          "logged": 1706003806319
        }
      }
    }
  ],
  "metadata": {
    "colab": {
      "collapsed_sections": [
        "2TuqyjisZ9Oe",
        "41qQ7c8SHWmP",
        "QcJgE_4_SOgr"
      ],
      "provenance": []
    },
    "kernel_info": {
      "name": "python310-sdkv2"
    },
    "kernelspec": {
      "name": "python310-sdkv2",
      "language": "python",
      "display_name": "Python 3.10 - SDK v2"
    },
    "language_info": {
      "name": "python",
      "version": "3.10.11",
      "mimetype": "text/x-python",
      "codemirror_mode": {
        "name": "ipython",
        "version": 3
      },
      "pygments_lexer": "ipython3",
      "nbconvert_exporter": "python",
      "file_extension": ".py"
    },
    "microsoft": {
      "ms_spell_check": {
        "ms_spell_check_language": "de"
      },
      "host": {
        "AzureML": {
          "notebookHasBeenCompleted": true
        }
      }
    },
    "nteract": {
      "version": "nteract-front-end@1.0.0"
    }
  },
  "nbformat": 4,
  "nbformat_minor": 0
}